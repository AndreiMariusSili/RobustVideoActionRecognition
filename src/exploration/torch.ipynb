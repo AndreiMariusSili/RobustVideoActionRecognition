{
 "cells": [
  {
   "cell_type": "code",
   "execution_count": null,
   "outputs": [],
   "source": [
    "\n",
    "%load_ext autoreload\n",
    "%autoreload 2\n",
    "\n"
   ],
   "metadata": {
    "collapsed": false,
    "pycharm": {
     "name": "#%%\n",
     "is_executing": true
    }
   }
  },
  {
   "cell_type": "code",
   "execution_count": 1,
   "metadata": {
    "pycharm": {
     "is_executing": false
    }
   },
   "outputs": [],
   "source": [
    "import os; os.chdir(f'{os.environ[\"MT_ROOT\"]}/src/')\n",
    "import torch as th\n",
    "from torch import nn\n",
    "import torchvision\n",
    "\n",
    "import constants as ct\n",
    "from models.i3d import I3D\n",
    "from models.ae_i3d import AEI3D\n",
    "from models.vae_i3d import VAEI3D\n",
    "from models.tadn import TimeAlignedDenseNet\n",
    "from models.helpers import count_parameters"
   ]
  },
  {
   "cell_type": "code",
   "execution_count": 5,
   "metadata": {
    "pycharm": {
     "is_executing": false
    }
   },
   "outputs": [],
   "source": [
    "class A:\n",
    "    x = None\n",
    "    \n",
    "    def __init__(self):\n",
    "        self.x = nn.ConstantPad3d(1, 0)\n",
    "class B(nn.Module):\n",
    "    x = None\n",
    "    def __init__(self):\n",
    "        super(B, self).__init__()\n",
    "        self.x = nn.ConstantPad3d(1, 0)"
   ]
  },
  {
   "cell_type": "code",
   "execution_count": 6,
   "metadata": {
    "pycharm": {
     "is_executing": false
    }
   },
   "outputs": [
    {
     "data": {
      "text/plain": "(ConstantPad3d(padding=(1, 1, 1, 1, 1, 1), value=0), None)"
     },
     "metadata": {},
     "output_type": "execute_result",
     "execution_count": 6
    }
   ],
   "source": [
    "a = A()\n",
    "b = B()\n",
    "a.x, b.x"
   ]
  },
  {
   "cell_type": "code",
   "execution_count": 7,
   "metadata": {
    "pycharm": {
     "is_executing": false
    }
   },
   "outputs": [
    {
     "data": {
      "text/plain": "(torch.Size([2, 10]),\n torch.Size([2, 10]),\n tensor(2),\n tensor([[0.0230, 0.0747, 0.1909, 0.0952, 0.1164, 0.0239, 0.1272, 0.1002, 0.1037,\n          0.1447],\n         [0.0631, 0.1012, 0.1456, 0.0847, 0.0969, 0.0620, 0.0877, 0.1319, 0.1101,\n          0.1168]]),\n tensor(2),\n tensor([[0.0304, 0.0685, 0.2404, 0.0789, 0.0904, 0.0251, 0.1346, 0.0874, 0.0902,\n          0.1541],\n         [0.0601, 0.0942, 0.1411, 0.0627, 0.0904, 0.0638, 0.0866, 0.1537, 0.1155,\n          0.1320]]))"
     },
     "metadata": {},
     "output_type": "execute_result",
     "execution_count": 7
    }
   ],
   "source": [
    "s = nn.Softmax(dim=-1)\n",
    "x = th.randn((2, 4, 10))\n",
    "a = s(x).mean(dim=1)\n",
    "b = s(x.mean(dim=1))\n",
    "a.shape, b.shape, th.argmax(a), a, th.argmax(b), b"
   ]
  },
  {
   "cell_type": "code",
   "execution_count": 2,
   "outputs": [
    {
     "name": "stdout",
     "text": [
      "LeNet:\t\t5630654\nInception:\t24427804\nResNet18:\t11191902\nI3D:\t\t6598718\nTADN:\t\t32611024\nAEI3D:\t\t14358178\nVAEI3D:\t\t15407748\n"
     ],
     "output_type": "stream"
    }
   ],
   "source": [
    "i3d = I3D(ct.SMTH_NUM_CLASSES, 0.0)\n",
    "tadn = TimeAlignedDenseNet(4, 12, 0.0, ct.SMTH_NUM_CLASSES)\n",
    "aei3d = AEI3D(1024, 0.0, ct.SMTH_NUM_CLASSES)\n",
    "vaei3d = VAEI3D(1024, 0.0, ct.SMTH_NUM_CLASSES, 'soft')\n",
    "le_net = torchvision.models.GoogLeNet(num_classes=ct.SMTH_NUM_CLASSES, aux_logits=False)\n",
    "inception = torchvision.models.inception_v3(num_classes=ct.SMTH_NUM_CLASSES)\n",
    "res_net = torchvision.models.resnet18(num_classes=ct.SMTH_NUM_CLASSES)\n",
    "print(f'LeNet:\\t\\t{count_parameters(le_net)}')\n",
    "print(f'Inception:\\t{count_parameters(inception)}')\n",
    "print(f'ResNet18:\\t{count_parameters(res_net)}')\n",
    "print(f'I3D:\\t\\t{count_parameters(i3d)}')\n",
    "print(f'TADN:\\t\\t{count_parameters(tadn)}')\n",
    "print(f'AEI3D:\\t\\t{count_parameters(aei3d)}')\n",
    "print(f'VAEI3D:\\t\\t{count_parameters(vaei3d)}')"
   ],
   "metadata": {
    "collapsed": false,
    "pycharm": {
     "name": "#%%\n",
     "is_executing": false
    }
   }
  },
  {
   "cell_type": "code",
   "execution_count": null,
   "outputs": [],
   "source": [
    "\n"
   ],
   "metadata": {
    "collapsed": false,
    "pycharm": {
     "name": "#%%\n"
    }
   }
  }
 ],
 "metadata": {
  "kernelspec": {
   "display_name": "Python 3",
   "language": "python",
   "name": "python3"
  },
  "toc": {
   "base_numbering": 1,
   "nav_menu": {},
   "number_sections": true,
   "sideBar": true,
   "skip_h1_title": false,
   "title_cell": "Table of Contents",
   "title_sidebar": "Contents",
   "toc_cell": false,
   "toc_position": {},
   "toc_section_display": true,
   "toc_window_display": false
  },
  "pycharm": {
   "stem_cell": {
    "cell_type": "raw",
    "source": [],
    "metadata": {
     "collapsed": false
    }
   }
  }
 },
 "nbformat": 4,
 "nbformat_minor": 2
}