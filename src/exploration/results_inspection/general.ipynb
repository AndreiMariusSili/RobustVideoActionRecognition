{
 "cells": [
  {
   "cell_type": "code",
   "execution_count": 1,
   "metadata": {
    "pycharm": {
     "is_executing": false
    }
   },
   "outputs": [],
   "source": [
    "\n",
    "%load_ext autoreload\n",
    "%autoreload 2\n"
   ]
  },
  {
   "cell_type": "code",
   "execution_count": 2,
   "metadata": {
    "pycharm": {
     "is_executing": false
    }
   },
   "outputs": [],
   "source": [
    "\n",
    "import os; os.chdir(f'{os.getenv(\"MT_ROOT\")}/src'); os.getcwd()\n",
    "import pandas as pd\n"
   ]
  },
  {
   "cell_type": "code",
   "execution_count": 17,
   "metadata": {
    "pycharm": {
     "is_executing": false
    }
   },
   "outputs": [],
   "source": [
    "\n",
    "\n",
    "with open('../runs/dummy/smth/__100/results.json') as file:\n",
    "    df = pd.read_json(file, orient='index')\n"
   ]
  },
  {
   "cell_type": "code",
   "execution_count": 4,
   "metadata": {
    "pycharm": {
     "is_executing": false
    }
   },
   "outputs": [
    {
     "data": {
      "text/plain": "                  dev_acc@1  dev_acc@5  dev_ce_loss   dev_iou  dev_kld_loss  \\\ntarn_smth_100      0.556092   0.813339     1.810876  0.626006           NaN   \ni3d_smth_100       0.508320   0.788782     1.962853  0.581052           NaN   \naei3d_smth_100     0.494364   0.779791     1.860572  0.569780           NaN   \naetarn_smth_100    0.547638   0.816291     1.778682  0.614466           NaN   \nvaetarn_smth_100   0.331991   0.627483     2.517239  0.404321      0.079910   \nvaei3d_smth_100    0.505233   0.789587     1.794001  0.578771      0.051742   \n\n                  dev_mse_loss  dev_total_loss  model_size  train_acc@1  \\\ntarn_smth_100              NaN             NaN   7,522,862     0.765036   \ni3d_smth_100               NaN             NaN   6,598,718     0.682239   \naei3d_smth_100        0.248715        2.109287  14,530,370     0.641193   \naetarn_smth_100       0.131050        1.909732  13,491,348     0.741341   \nvaetarn_smth_100      0.133988        2.731137  14,015,606     0.413646   \nvaei3d_smth_100       0.330131        2.175874  15,060,020     0.643442   \n\n                  train_acc@5  ...  train_kld_loss  train_mse_loss  \\\ntarn_smth_100        0.956169  ...             NaN             NaN   \ni3d_smth_100         0.920358  ...             NaN             NaN   \naei3d_smth_100       0.899114  ...             NaN        0.242872   \naetarn_smth_100      0.945865  ...             NaN        0.127270   \nvaetarn_smth_100     0.747550  ...        0.072922        0.130171   \nvaei3d_smth_100      0.901027  ...        0.051069        0.317529   \n\n                  train_total_loss  valid_acc@1  valid_acc@5  valid_ce_loss  \\\ntarn_smth_100                  NaN     0.336912     0.666329       2.873609   \ni3d_smth_100                   NaN     0.310981     0.652553       2.787355   \naei3d_smth_100            1.464298     0.305105     0.638574       2.686131   \naetarn_smth_100           0.975294     0.344814     0.686994       2.685385   \nvaetarn_smth_100          2.232514     0.137763     0.442058       3.386678   \nvaei3d_smth_100           1.560533     0.324352     0.675446       2.550508   \n\n                  valid_iou  valid_kld_loss  valid_mse_loss  valid_total_loss  \ntarn_smth_100      0.404781             NaN             NaN               NaN  \ni3d_smth_100       0.379254             NaN             NaN               NaN  \naei3d_smth_100     0.375000             NaN        0.224066          2.910197  \naetarn_smth_100    0.420989             NaN        0.114151          2.799536  \nvaetarn_smth_100   0.200770        0.067610        0.116114          3.570402  \nvaei3d_smth_100    0.396070        0.050421        0.304583          2.905513  \n\n[6 rows x 22 columns]",
      "text/html": "<div>\n<style scoped>\n    .dataframe tbody tr th:only-of-type {\n        vertical-align: middle;\n    }\n\n    .dataframe tbody tr th {\n        vertical-align: top;\n    }\n\n    .dataframe thead th {\n        text-align: right;\n    }\n</style>\n<table border=\"1\" class=\"dataframe\">\n  <thead>\n    <tr style=\"text-align: right;\">\n      <th></th>\n      <th>dev_acc@1</th>\n      <th>dev_acc@5</th>\n      <th>dev_ce_loss</th>\n      <th>dev_iou</th>\n      <th>dev_kld_loss</th>\n      <th>dev_mse_loss</th>\n      <th>dev_total_loss</th>\n      <th>model_size</th>\n      <th>train_acc@1</th>\n      <th>train_acc@5</th>\n      <th>...</th>\n      <th>train_kld_loss</th>\n      <th>train_mse_loss</th>\n      <th>train_total_loss</th>\n      <th>valid_acc@1</th>\n      <th>valid_acc@5</th>\n      <th>valid_ce_loss</th>\n      <th>valid_iou</th>\n      <th>valid_kld_loss</th>\n      <th>valid_mse_loss</th>\n      <th>valid_total_loss</th>\n    </tr>\n  </thead>\n  <tbody>\n    <tr>\n      <th>tarn_smth_100</th>\n      <td>0.556092</td>\n      <td>0.813339</td>\n      <td>1.810876</td>\n      <td>0.626006</td>\n      <td>NaN</td>\n      <td>NaN</td>\n      <td>NaN</td>\n      <td>7,522,862</td>\n      <td>0.765036</td>\n      <td>0.956169</td>\n      <td>...</td>\n      <td>NaN</td>\n      <td>NaN</td>\n      <td>NaN</td>\n      <td>0.336912</td>\n      <td>0.666329</td>\n      <td>2.873609</td>\n      <td>0.404781</td>\n      <td>NaN</td>\n      <td>NaN</td>\n      <td>NaN</td>\n    </tr>\n    <tr>\n      <th>i3d_smth_100</th>\n      <td>0.508320</td>\n      <td>0.788782</td>\n      <td>1.962853</td>\n      <td>0.581052</td>\n      <td>NaN</td>\n      <td>NaN</td>\n      <td>NaN</td>\n      <td>6,598,718</td>\n      <td>0.682239</td>\n      <td>0.920358</td>\n      <td>...</td>\n      <td>NaN</td>\n      <td>NaN</td>\n      <td>NaN</td>\n      <td>0.310981</td>\n      <td>0.652553</td>\n      <td>2.787355</td>\n      <td>0.379254</td>\n      <td>NaN</td>\n      <td>NaN</td>\n      <td>NaN</td>\n    </tr>\n    <tr>\n      <th>aei3d_smth_100</th>\n      <td>0.494364</td>\n      <td>0.779791</td>\n      <td>1.860572</td>\n      <td>0.569780</td>\n      <td>NaN</td>\n      <td>0.248715</td>\n      <td>2.109287</td>\n      <td>14,530,370</td>\n      <td>0.641193</td>\n      <td>0.899114</td>\n      <td>...</td>\n      <td>NaN</td>\n      <td>0.242872</td>\n      <td>1.464298</td>\n      <td>0.305105</td>\n      <td>0.638574</td>\n      <td>2.686131</td>\n      <td>0.375000</td>\n      <td>NaN</td>\n      <td>0.224066</td>\n      <td>2.910197</td>\n    </tr>\n    <tr>\n      <th>aetarn_smth_100</th>\n      <td>0.547638</td>\n      <td>0.816291</td>\n      <td>1.778682</td>\n      <td>0.614466</td>\n      <td>NaN</td>\n      <td>0.131050</td>\n      <td>1.909732</td>\n      <td>13,491,348</td>\n      <td>0.741341</td>\n      <td>0.945865</td>\n      <td>...</td>\n      <td>NaN</td>\n      <td>0.127270</td>\n      <td>0.975294</td>\n      <td>0.344814</td>\n      <td>0.686994</td>\n      <td>2.685385</td>\n      <td>0.420989</td>\n      <td>NaN</td>\n      <td>0.114151</td>\n      <td>2.799536</td>\n    </tr>\n    <tr>\n      <th>vaetarn_smth_100</th>\n      <td>0.331991</td>\n      <td>0.627483</td>\n      <td>2.517239</td>\n      <td>0.404321</td>\n      <td>0.079910</td>\n      <td>0.133988</td>\n      <td>2.731137</td>\n      <td>14,015,606</td>\n      <td>0.413646</td>\n      <td>0.747550</td>\n      <td>...</td>\n      <td>0.072922</td>\n      <td>0.130171</td>\n      <td>2.232514</td>\n      <td>0.137763</td>\n      <td>0.442058</td>\n      <td>3.386678</td>\n      <td>0.200770</td>\n      <td>0.067610</td>\n      <td>0.116114</td>\n      <td>3.570402</td>\n    </tr>\n    <tr>\n      <th>vaei3d_smth_100</th>\n      <td>0.505233</td>\n      <td>0.789587</td>\n      <td>1.794001</td>\n      <td>0.578771</td>\n      <td>0.051742</td>\n      <td>0.330131</td>\n      <td>2.175874</td>\n      <td>15,060,020</td>\n      <td>0.643442</td>\n      <td>0.901027</td>\n      <td>...</td>\n      <td>0.051069</td>\n      <td>0.317529</td>\n      <td>1.560533</td>\n      <td>0.324352</td>\n      <td>0.675446</td>\n      <td>2.550508</td>\n      <td>0.396070</td>\n      <td>0.050421</td>\n      <td>0.304583</td>\n      <td>2.905513</td>\n    </tr>\n  </tbody>\n</table>\n<p>6 rows × 22 columns</p>\n</div>"
     },
     "metadata": {},
     "output_type": "execute_result",
     "execution_count": 4
    }
   ],
   "source": [
    "\n",
    "df\n"
   ]
  },
  {
   "cell_type": "code",
   "execution_count": 18,
   "metadata": {
    "pycharm": {
     "is_executing": false
    }
   },
   "outputs": [
    {
     "name": "stdout",
     "text": [
      "\\begin{tabular}{llrrr}\n\\toprule\n{} &  model\\_size &  train\\_acc@1 &  dev\\_acc@1 &  valid\\_acc@1 \\\\\n\\midrule\ntarn\\_smth\\_100    &   7,522,862 &        76.50 &      55.61 &        33.69 \\\\\ni3d\\_smth\\_100     &   6,598,718 &        68.22 &      50.83 &        31.10 \\\\\naei3d\\_smth\\_100   &  14,530,370 &        64.12 &      49.44 &        30.51 \\\\\naetarn\\_smth\\_100  &  13,491,348 &        74.13 &      54.76 &        34.48 \\\\\nvaetarn\\_smth\\_100 &  14,015,606 &        41.36 &      33.20 &        13.78 \\\\\nvaei3d\\_smth\\_100  &  15,060,020 &        64.34 &      50.52 &        32.44 \\\\\n\\bottomrule\n\\end{tabular}\n\n"
     ],
     "output_type": "stream"
    }
   ],
   "source": [
    "\n",
    "columns = ['train_acc@1', 'dev_acc@1', 'valid_acc@1']\n",
    "for col in columns:\n",
    "    df[col] = round(df[col] * 100, 2)\n",
    "columns = ['model_size', 'train_acc@1', 'dev_acc@1', 'valid_acc@1']\n",
    "print(df[columns].to_latex())\n"
   ]
  },
  {
   "cell_type": "code",
   "execution_count": 19,
   "metadata": {
    "pycharm": {
     "is_executing": false
    }
   },
   "outputs": [
    {
     "name": "stdout",
     "text": [
      "\\begin{tabular}{llrrr}\n\\toprule\n{} &  model\\_size &  train\\_acc@5 &  dev\\_acc@5 &  valid\\_acc@5 \\\\\n\\midrule\ntarn\\_smth\\_100    &   7,522,862 &        95.62 &      81.33 &        66.63 \\\\\ni3d\\_smth\\_100     &   6,598,718 &        92.04 &      78.88 &        65.26 \\\\\naei3d\\_smth\\_100   &  14,530,370 &        89.91 &      77.98 &        63.86 \\\\\naetarn\\_smth\\_100  &  13,491,348 &        94.59 &      81.63 &        68.70 \\\\\nvaetarn\\_smth\\_100 &  14,015,606 &        74.76 &      62.75 &        44.21 \\\\\nvaei3d\\_smth\\_100  &  15,060,020 &        90.10 &      78.96 &        67.54 \\\\\n\\bottomrule\n\\end{tabular}\n\n"
     ],
     "output_type": "stream"
    }
   ],
   "source": [
    "\n",
    "columns = ['train_acc@5', 'dev_acc@5', 'valid_acc@5']\n",
    "for col in columns:\n",
    "    df[col] = round(df[col] * 100, 2)\n",
    "columns = ['model_size', 'train_acc@5', 'dev_acc@5', 'valid_acc@5']\n",
    "print(df[columns].to_latex())\n"
   ]
  },
  {
   "cell_type": "code",
   "execution_count": 20,
   "metadata": {
    "pycharm": {
     "is_executing": false
    }
   },
   "outputs": [
    {
     "name": "stdout",
     "text": [
      "\\begin{tabular}{llrrr}\n\\toprule\n{} &  model\\_size &  train\\_iou &  dev\\_iou &  valid\\_iou \\\\\n\\midrule\ntarn\\_smth\\_100    &   7,522,862 &      80.94 &    62.60 &      40.48 \\\\\ni3d\\_smth\\_100     &   6,598,718 &      73.47 &    58.11 &      37.93 \\\\\naei3d\\_smth\\_100   &  14,530,370 &      70.11 &    56.98 &      37.50 \\\\\naetarn\\_smth\\_100  &  13,491,348 &      79.31 &    61.45 &      42.10 \\\\\nvaetarn\\_smth\\_100 &  14,015,606 &      47.20 &    40.43 &      20.08 \\\\\nvaei3d\\_smth\\_100  &  15,060,020 &      70.37 &    57.88 &      39.61 \\\\\n\\bottomrule\n\\end{tabular}\n\n"
     ],
     "output_type": "stream"
    }
   ],
   "source": [
    "\n",
    "columns = ['train_iou', 'dev_iou', 'valid_iou']\n",
    "for col in columns:\n",
    "    df[col] = round(df[col] * 100, 2)\n",
    "columns = ['model_size', 'train_iou', 'dev_iou', 'valid_iou']\n",
    "print(df[columns].to_latex())\n",
    "\n"
   ]
  }
 ],
 "metadata": {
  "kernelspec": {
   "display_name": "Python 3",
   "language": "python",
   "name": "python3"
  },
  "language_info": {
   "codemirror_mode": {
    "name": "ipython",
    "version": 3
   },
   "file_extension": ".py",
   "mimetype": "text/x-python",
   "name": "python",
   "nbconvert_exporter": "python",
   "pygments_lexer": "ipython3",
   "version": "3.7.3"
  },
  "toc": {
   "base_numbering": 1,
   "nav_menu": {},
   "number_sections": true,
   "sideBar": true,
   "skip_h1_title": false,
   "title_cell": "Table of Contents",
   "title_sidebar": "Contents",
   "toc_cell": false,
   "toc_position": {},
   "toc_section_display": true,
   "toc_window_display": false
  },
  "pycharm": {
   "stem_cell": {
    "cell_type": "raw",
    "source": [],
    "metadata": {
     "collapsed": false
    }
   }
  }
 },
 "nbformat": 4,
 "nbformat_minor": 2
}