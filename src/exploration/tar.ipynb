{
 "cells": [
  {
   "cell_type": "code",
   "execution_count": 5,
   "metadata": {},
   "outputs": [
    {
     "data": {
      "text/plain": [
       "'/Users/Play/Code/AI/master-thesis/src/exploration'"
      ]
     },
     "execution_count": 5,
     "metadata": {},
     "output_type": "execute_result"
    }
   ],
   "source": [
    "import tarfile\n",
    "import os\n",
    "os.getcwd()"
   ]
  },
  {
   "cell_type": "code",
   "execution_count": 9,
   "metadata": {},
   "outputs": [],
   "source": [
    "with tarfile.open('../../data/dummy/smth/jpeg/88383.tar.gz', \"r:gz\") as tar:\n",
    "    members = tar.getmembers()"
   ]
  },
  {
   "cell_type": "code",
   "execution_count": 10,
   "metadata": {},
   "outputs": [
    {
     "data": {
      "text/plain": [
       "[<TarInfo '88383' at 0x10c6f0f20>,\n",
       " <TarInfo '88383/021.jpeg' at 0x10c6db5c0>,\n",
       " <TarInfo '88383/001.jpeg' at 0x10c6db688>,\n",
       " <TarInfo '88383/017.jpeg' at 0x10c6db750>,\n",
       " <TarInfo '88383/016.jpeg' at 0x10c6db818>,\n",
       " <TarInfo '88383/020.jpeg' at 0x10c6db8e0>,\n",
       " <TarInfo '88383/007.jpeg' at 0x10c6db9a8>,\n",
       " <TarInfo '88383/011.jpeg' at 0x10c6dba70>,\n",
       " <TarInfo '88383/031.jpeg' at 0x10c6dbb38>,\n",
       " <TarInfo '88383/027.jpeg' at 0x10c6dbc00>,\n",
       " <TarInfo '88383/026.jpeg' at 0x10c6dbcc8>,\n",
       " <TarInfo '88383/030.jpeg' at 0x10c6dbd90>,\n",
       " <TarInfo '88383/010.jpeg' at 0x10c6dbe58>,\n",
       " <TarInfo '88383/006.jpeg' at 0x10c6dbf20>,\n",
       " <TarInfo '88383/029.jpeg' at 0x10c6f0048>,\n",
       " <TarInfo '88383/013.jpeg' at 0x10c6f0110>,\n",
       " <TarInfo '88383/005.jpeg' at 0x10c6f01d8>,\n",
       " <TarInfo '88383/025.jpeg' at 0x10c6f0430>,\n",
       " <TarInfo '88383/009.jpeg' at 0x10c6f04f8>,\n",
       " <TarInfo '88383/008.jpeg' at 0x10c6f05c0>,\n",
       " <TarInfo '88383/024.jpeg' at 0x10c6f0688>,\n",
       " <TarInfo '88383/004.jpeg' at 0x10c6f0750>,\n",
       " <TarInfo '88383/012.jpeg' at 0x10c6f0818>,\n",
       " <TarInfo '88383/028.jpeg' at 0x10c6f08e0>,\n",
       " <TarInfo '88383/023.jpeg' at 0x10c6f09a8>,\n",
       " <TarInfo '88383/019.jpeg' at 0x10c6f0a70>,\n",
       " <TarInfo '88383/015.jpeg' at 0x10c6f02a0>,\n",
       " <TarInfo '88383/003.jpeg' at 0x10c6f0368>,\n",
       " <TarInfo '88383/002.jpeg' at 0x10c6f0b38>,\n",
       " <TarInfo '88383/014.jpeg' at 0x10c6f0c00>,\n",
       " <TarInfo '88383/018.jpeg' at 0x10c6f0cc8>,\n",
       " <TarInfo '88383/022.jpeg' at 0x10c6f0d90>]"
      ]
     },
     "execution_count": 10,
     "metadata": {},
     "output_type": "execute_result"
    }
   ],
   "source": [
    "members."
   ]
  },
  {
   "cell_type": "code",
   "execution_count": null,
   "metadata": {},
   "outputs": [],
   "source": []
  }
 ],
 "metadata": {
  "kernelspec": {
   "display_name": "Python 3",
   "language": "python",
   "name": "python3"
  },
  "language_info": {
   "codemirror_mode": {
    "name": "ipython",
    "version": 3
   },
   "file_extension": ".py",
   "mimetype": "text/x-python",
   "name": "python",
   "nbconvert_exporter": "python",
   "pygments_lexer": "ipython3",
   "version": "3.6.8"
  },
  "toc": {
   "base_numbering": 1,
   "nav_menu": {},
   "number_sections": true,
   "sideBar": true,
   "skip_h1_title": false,
   "title_cell": "Table of Contents",
   "title_sidebar": "Contents",
   "toc_cell": false,
   "toc_position": {},
   "toc_section_display": true,
   "toc_window_display": false
  }
 },
 "nbformat": 4,
 "nbformat_minor": 2
}
