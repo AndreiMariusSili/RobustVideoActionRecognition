{
 "cells": [
  {
   "cell_type": "code",
   "execution_count": 17,
   "metadata": {},
   "outputs": [],
   "source": [
    "import numpy as np\n",
    "import torch"
   ]
  },
  {
   "cell_type": "code",
   "execution_count": 18,
   "metadata": {},
   "outputs": [],
   "source": [
    "a = torch.tensor(np.array(range(120)).reshape(5, 2, 4, 3))"
   ]
  },
  {
   "cell_type": "code",
   "execution_count": 19,
   "metadata": {},
   "outputs": [
    {
     "data": {
      "text/plain": [
       "tensor([[[[  0,   1,   2],\n",
       "          [  3,   4,   5],\n",
       "          [  6,   7,   8],\n",
       "          [  9,  10,  11]],\n",
       "\n",
       "         [[ 12,  13,  14],\n",
       "          [ 15,  16,  17],\n",
       "          [ 18,  19,  20],\n",
       "          [ 21,  22,  23]]],\n",
       "\n",
       "\n",
       "        [[[ 24,  25,  26],\n",
       "          [ 27,  28,  29],\n",
       "          [ 30,  31,  32],\n",
       "          [ 33,  34,  35]],\n",
       "\n",
       "         [[ 36,  37,  38],\n",
       "          [ 39,  40,  41],\n",
       "          [ 42,  43,  44],\n",
       "          [ 45,  46,  47]]],\n",
       "\n",
       "\n",
       "        [[[ 48,  49,  50],\n",
       "          [ 51,  52,  53],\n",
       "          [ 54,  55,  56],\n",
       "          [ 57,  58,  59]],\n",
       "\n",
       "         [[ 60,  61,  62],\n",
       "          [ 63,  64,  65],\n",
       "          [ 66,  67,  68],\n",
       "          [ 69,  70,  71]]],\n",
       "\n",
       "\n",
       "        [[[ 72,  73,  74],\n",
       "          [ 75,  76,  77],\n",
       "          [ 78,  79,  80],\n",
       "          [ 81,  82,  83]],\n",
       "\n",
       "         [[ 84,  85,  86],\n",
       "          [ 87,  88,  89],\n",
       "          [ 90,  91,  92],\n",
       "          [ 93,  94,  95]]],\n",
       "\n",
       "\n",
       "        [[[ 96,  97,  98],\n",
       "          [ 99, 100, 101],\n",
       "          [102, 103, 104],\n",
       "          [105, 106, 107]],\n",
       "\n",
       "         [[108, 109, 110],\n",
       "          [111, 112, 113],\n",
       "          [114, 115, 116],\n",
       "          [117, 118, 119]]]])"
      ]
     },
     "execution_count": 19,
     "metadata": {},
     "output_type": "execute_result"
    }
   ],
   "source": [
    "a"
   ]
  },
  {
   "cell_type": "code",
   "execution_count": 20,
   "metadata": {},
   "outputs": [
    {
     "data": {
      "text/plain": [
       "tensor([[[[  0,   3,   6,   9],\n",
       "          [ 12,  15,  18,  21]],\n",
       "\n",
       "         [[  1,   4,   7,  10],\n",
       "          [ 13,  16,  19,  22]],\n",
       "\n",
       "         [[  2,   5,   8,  11],\n",
       "          [ 14,  17,  20,  23]]],\n",
       "\n",
       "\n",
       "        [[[ 24,  27,  30,  33],\n",
       "          [ 36,  39,  42,  45]],\n",
       "\n",
       "         [[ 25,  28,  31,  34],\n",
       "          [ 37,  40,  43,  46]],\n",
       "\n",
       "         [[ 26,  29,  32,  35],\n",
       "          [ 38,  41,  44,  47]]],\n",
       "\n",
       "\n",
       "        [[[ 48,  51,  54,  57],\n",
       "          [ 60,  63,  66,  69]],\n",
       "\n",
       "         [[ 49,  52,  55,  58],\n",
       "          [ 61,  64,  67,  70]],\n",
       "\n",
       "         [[ 50,  53,  56,  59],\n",
       "          [ 62,  65,  68,  71]]],\n",
       "\n",
       "\n",
       "        [[[ 72,  75,  78,  81],\n",
       "          [ 84,  87,  90,  93]],\n",
       "\n",
       "         [[ 73,  76,  79,  82],\n",
       "          [ 85,  88,  91,  94]],\n",
       "\n",
       "         [[ 74,  77,  80,  83],\n",
       "          [ 86,  89,  92,  95]]],\n",
       "\n",
       "\n",
       "        [[[ 96,  99, 102, 105],\n",
       "          [108, 111, 114, 117]],\n",
       "\n",
       "         [[ 97, 100, 103, 106],\n",
       "          [109, 112, 115, 118]],\n",
       "\n",
       "         [[ 98, 101, 104, 107],\n",
       "          [110, 113, 116, 119]]]])"
      ]
     },
     "execution_count": 20,
     "metadata": {},
     "output_type": "execute_result"
    }
   ],
   "source": [
    "b = a.permute((0, 3, 1, 2))\n",
    "b"
   ]
  },
  {
   "cell_type": "code",
   "execution_count": 24,
   "metadata": {
    "scrolled": true
   },
   "outputs": [
    {
     "data": {
      "text/plain": [
       "tensor([[[ 0,  1,  2],\n",
       "         [ 3,  4,  5],\n",
       "         [ 6,  7,  8],\n",
       "         [ 9, 10, 11]],\n",
       "\n",
       "        [[12, 13, 14],\n",
       "         [15, 16, 17],\n",
       "         [18, 19, 20],\n",
       "         [21, 22, 23]]])"
      ]
     },
     "execution_count": 24,
     "metadata": {},
     "output_type": "execute_result"
    }
   ],
   "source": [
    "# 5,2,4,3\n",
    "# l.h.w.c\n",
    "a[0,:,:,:]"
   ]
  },
  {
   "cell_type": "code",
   "execution_count": 23,
   "metadata": {},
   "outputs": [
    {
     "data": {
      "text/plain": [
       "tensor([[[ 0,  3,  6,  9],\n",
       "         [12, 15, 18, 21]],\n",
       "\n",
       "        [[ 1,  4,  7, 10],\n",
       "         [13, 16, 19, 22]],\n",
       "\n",
       "        [[ 2,  5,  8, 11],\n",
       "         [14, 17, 20, 23]]])"
      ]
     },
     "execution_count": 23,
     "metadata": {},
     "output_type": "execute_result"
    }
   ],
   "source": [
    "# 5,3,4,2\n",
    "# l.c.h.w\n",
    "b[0,:,:,:]"
   ]
  },
  {
   "cell_type": "code",
   "execution_count": 30,
   "metadata": {},
   "outputs": [
    {
     "data": {
      "text/plain": [
       "tensor([[[ 0,  1,  2],\n",
       "         [ 3,  4,  5],\n",
       "         [ 6,  7,  8],\n",
       "         [ 9, 10, 11]],\n",
       "\n",
       "        [[12, 13, 14],\n",
       "         [15, 16, 17],\n",
       "         [18, 19, 20],\n",
       "         [21, 22, 23]]])"
      ]
     },
     "execution_count": 30,
     "metadata": {},
     "output_type": "execute_result"
    }
   ],
   "source": [
    "a = torch.tensor(np.array(range(120)).reshape(5, 2, 4, 3))\n",
    "a[0]"
   ]
  },
  {
   "cell_type": "code",
   "execution_count": 32,
   "metadata": {},
   "outputs": [
    {
     "data": {
      "text/plain": [
       "tensor([[[ 0,  3,  6,  9],\n",
       "         [12, 15, 18, 21]],\n",
       "\n",
       "        [[ 1,  4,  7, 10],\n",
       "         [13, 16, 19, 22]],\n",
       "\n",
       "        [[ 2,  5,  8, 11],\n",
       "         [14, 17, 20, 23]]])"
      ]
     },
     "execution_count": 32,
     "metadata": {},
     "output_type": "execute_result"
    }
   ],
   "source": [
    "b = a.permute((0, 3, 1, 2)).reshape((3*5, 2, 4))\n",
    "b[0:3,:,:]"
   ]
  },
  {
   "cell_type": "code",
   "execution_count": null,
   "metadata": {},
   "outputs": [],
   "source": []
  }
 ],
 "metadata": {
  "kernelspec": {
   "display_name": "Python 3",
   "language": "python",
   "name": "python3"
  },
  "language_info": {
   "codemirror_mode": {
    "name": "ipython",
    "version": 3
   },
   "file_extension": ".py",
   "mimetype": "text/x-python",
   "name": "python",
   "nbconvert_exporter": "python",
   "pygments_lexer": "ipython3",
   "version": "3.7.2"
  },
  "toc": {
   "base_numbering": 1,
   "nav_menu": {},
   "number_sections": true,
   "sideBar": true,
   "skip_h1_title": false,
   "title_cell": "Table of Contents",
   "title_sidebar": "Contents",
   "toc_cell": false,
   "toc_position": {},
   "toc_section_display": true,
   "toc_window_display": false
  }
 },
 "nbformat": 4,
 "nbformat_minor": 2
}
