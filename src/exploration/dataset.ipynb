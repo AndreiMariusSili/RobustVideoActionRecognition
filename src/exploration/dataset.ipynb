{
 "cells": [
  {
   "cell_type": "code",
   "execution_count": null,
   "metadata": {},
   "outputs": [],
   "source": [
    "%load_ext autoreload\n",
    "%autoreload 2"
   ]
  },
  {
   "cell_type": "code",
   "execution_count": 14,
   "metadata": {},
   "outputs": [],
   "source": [
    "import os; os.chdir('/Users/Play/Code/AI/master-thesis/src')\n",
    "from torch.utils import data as thd\n",
    "from typing import List, Tuple\n",
    "import pathlib as pl\n",
    "import pandas as pd\n",
    "import numpy as np\n",
    "import skvideo\n",
    "\n",
    "\n",
    "import pipeline as pipe\n",
    "import constants as ct\n",
    "import helpers as hp"
   ]
  },
  {
   "cell_type": "code",
   "execution_count": 29,
   "metadata": {},
   "outputs": [],
   "source": [
    "base_transform = pipe.TransformComposition([\n",
    "    pipe.VideoRandomCrop(224),\n",
    "    pipe.VideoColorJitter(brightness=1.5, contrast=1.5, saturation=1.5, hue=0.5),\n",
    "#     pipe.VideoNormalize(255),\n",
    "#     pipe.VideoStandardize(ct.IMAGE_NET_MEANS, ct.IMAGE_NET_STDS),\n",
    "])\n",
    "dataset = pipe.SmthDataset(ct.SMTH_META_TRAIN, 1.0, base_transform)\n"
   ]
  },
  {
   "cell_type": "code",
   "execution_count": 30,
   "metadata": {},
   "outputs": [
    {
     "name": "stdout",
     "output_type": "stream",
     "text": [
      "(38, 224, 224, 3)\n",
      "(66, 224, 224, 3)\n",
      "(37, 224, 224, 3)\n",
      "(37, 224, 224, 3)\n",
      "(57, 224, 224, 3)\n",
      "(32, 224, 224, 3)\n",
      "(47, 224, 224, 3)\n",
      "(32, 224, 224, 3)\n",
      "(25, 224, 224, 3)\n",
      "(40, 224, 224, 3)\n"
     ]
    }
   ],
   "source": [
    "for i in range(10):\n",
    "    x, y = dataset[i]\n",
    "    skvideo.io.vwrite(f'{i}.mp4', x, outputdict={'-r': '12'})\n",
    "    print(x.shape)"
   ]
  },
  {
   "cell_type": "code",
   "execution_count": null,
   "metadata": {},
   "outputs": [],
   "source": []
  }
 ],
 "metadata": {
  "kernelspec": {
   "display_name": "Python 3",
   "language": "python",
   "name": "python3"
  },
  "language_info": {
   "codemirror_mode": {
    "name": "ipython",
    "version": 3
   },
   "file_extension": ".py",
   "mimetype": "text/x-python",
   "name": "python",
   "nbconvert_exporter": "python",
   "pygments_lexer": "ipython3",
   "version": "3.7.2"
  },
  "toc": {
   "base_numbering": 1,
   "nav_menu": {},
   "number_sections": true,
   "sideBar": true,
   "skip_h1_title": false,
   "title_cell": "Table of Contents",
   "title_sidebar": "Contents",
   "toc_cell": false,
   "toc_position": {},
   "toc_section_display": true,
   "toc_window_display": false
  }
 },
 "nbformat": 4,
 "nbformat_minor": 2
}
