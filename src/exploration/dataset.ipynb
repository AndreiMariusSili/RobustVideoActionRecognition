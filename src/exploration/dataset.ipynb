{
 "cells": [
  {
   "cell_type": "code",
   "execution_count": 1,
   "metadata": {},
   "outputs": [],
   "source": [
    "%load_ext autoreload\n",
    "%autoreload 2"
   ]
  },
  {
   "cell_type": "code",
   "execution_count": 10,
   "metadata": {},
   "outputs": [],
   "source": [
    "import os; os.chdir('/Users/Play/Code/AI/master-thesis/src')\n",
    "from torch.utils import data as thd\n",
    "from typing import List, Tuple\n",
    "import pathlib as pl\n",
    "import pandas as pd\n",
    "import numpy as np\n",
    "import skvideo.io\n",
    "from matplotlib import pyplot as plt\n",
    "\n",
    "\n",
    "import pipeline as pipe\n",
    "import constants as ct\n",
    "import helpers as hp"
   ]
  },
  {
   "cell_type": "code",
   "execution_count": 11,
   "metadata": {},
   "outputs": [
    {
     "data": {
      "text/plain": [
       "1263"
      ]
     },
     "execution_count": 11,
     "metadata": {},
     "output_type": "execute_result"
    }
   ],
   "source": [
    "base_transform = pipe.VideoCompose([\n",
    "        pipe.RandomCrop(224),\n",
    "        pipe.ColorJitter(brightness=0.05, contrast=0.05, saturation=0.05, hue=0.05),\n",
    "        pipe.ToVolumeArray(3, False),\n",
    "        pipe.ArrayNormalize(255),\n",
    "        pipe.ArrayStandardize(ct.IMAGE_NET_MEANS, ct.IMAGE_NET_STDS),\n",
    "    ])\n",
    "dataset = pipe.SmthDataset(ct.SMTH_META_MERGED, 1.0, 16, base_transform)\n",
    "len(dataset.meta)"
   ]
  },
  {
   "cell_type": "code",
   "execution_count": 25,
   "metadata": {},
   "outputs": [],
   "source": [
    "base_transform = pipe.VideoCompose([\n",
    "        pipe.RandomCrop(224),\n",
    "        pipe.ColorJitter(brightness=0.10, contrast=0.10, saturation=0.10, hue=0.10),\n",
    "        pipe.ToVolumeArray(3, False),\n",
    "        pipe.ArrayNormalize(255),\n",
    "        pipe.ArrayStandardize(ct.IMAGE_NET_MEANS, ct.IMAGE_NET_STDS)\n",
    "    ])\n",
    "dataset = pipe.SmthDataset(ct.SMTH_META_TRAIN, 1.0, 16, base_transform)\n",
    "dataset.presenting = False\n",
    "for i in range(10):\n",
    "    x, y = dataset[0]\n",
    "    x = x * np.array(ct.IMAGE_NET_STDS, dtype=np.float32).reshape(1,1,1,3) + np.array(ct.IMAGE_NET_MEANS, dtype=np.float32).reshape(1,1,1,3)\n",
    "    x = x * 255\n",
    "    skvideo.io.vwrite(f'{i}.mp4', x, inputdict={\n",
    "        '-framerate': '12'\n",
    "    })"
   ]
  }
 ],
 "metadata": {
  "kernelspec": {
   "display_name": "Python 3",
   "language": "python",
   "name": "python3"
  },
  "language_info": {
   "codemirror_mode": {
    "name": "ipython",
    "version": 3
   },
   "file_extension": ".py",
   "mimetype": "text/x-python",
   "name": "python",
   "nbconvert_exporter": "python",
   "pygments_lexer": "ipython3",
   "version": "3.7.2"
  },
  "toc": {
   "base_numbering": 1,
   "nav_menu": {},
   "number_sections": true,
   "sideBar": true,
   "skip_h1_title": false,
   "title_cell": "Table of Contents",
   "title_sidebar": "Contents",
   "toc_cell": false,
   "toc_position": {},
   "toc_section_display": true,
   "toc_window_display": false
  }
 },
 "nbformat": 4,
 "nbformat_minor": 2
}
