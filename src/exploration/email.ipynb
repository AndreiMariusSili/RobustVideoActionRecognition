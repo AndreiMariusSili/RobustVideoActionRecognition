{
 "cells": [
  {
   "cell_type": "code",
   "execution_count": 22,
   "metadata": {},
   "outputs": [],
   "source": [
    "import smtplib\n",
    "from email.message import EmailMessage"
   ]
  },
  {
   "cell_type": "code",
   "execution_count": 23,
   "metadata": {},
   "outputs": [],
   "source": [
    "server = smtplib.SMTP('smtp.gmail.com', 587)\n",
    "server.connect('smtp.gmail.com', 587)\n",
    "server.ehlo()\n",
    "server.starttls()\n",
    "server.ehlo()\n",
    "\n",
    "# Next, log in to the server\n",
    "server.login(\"andreis.robot\", \"7D=/y6qqzGyh\")\n",
    "\n",
    "# Send the mail\n",
    "msg = EmailMessage()\n",
    "msg.set_content(\"Some job has been finished.\")\n",
    "msg['From'] = \"Andrei's Robot\"\n",
    "msg['To'] = \"andrei.sili1994@gmail.com\"\n",
    "msg['Subject'] = \"[Andrei's Master Thesis] Job done.\""
   ]
  },
  {
   "cell_type": "code",
   "execution_count": 24,
   "metadata": {},
   "outputs": [
    {
     "data": {
      "text/plain": [
       "{}"
      ]
     },
     "execution_count": 24,
     "metadata": {},
     "output_type": "execute_result"
    }
   ],
   "source": [
    "server.sendmail(\"andreis.robot@gmail.com@gmail.com\", \"andrei.sili1994@gmail.com\", msg.as_string())"
   ]
  }
 ],
 "metadata": {
  "kernelspec": {
   "display_name": "Python 3",
   "language": "python",
   "name": "python3"
  },
  "language_info": {
   "codemirror_mode": {
    "name": "ipython",
    "version": 3
   },
   "file_extension": ".py",
   "mimetype": "text/x-python",
   "name": "python",
   "nbconvert_exporter": "python",
   "pygments_lexer": "ipython3",
   "version": "3.6.8"
  },
  "toc": {
   "base_numbering": 1,
   "nav_menu": {},
   "number_sections": true,
   "sideBar": true,
   "skip_h1_title": false,
   "title_cell": "Table of Contents",
   "title_sidebar": "Contents",
   "toc_cell": false,
   "toc_position": {},
   "toc_section_display": true,
   "toc_window_display": false
  }
 },
 "nbformat": 4,
 "nbformat_minor": 2
}
