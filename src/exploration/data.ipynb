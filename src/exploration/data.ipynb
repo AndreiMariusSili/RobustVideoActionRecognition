{
 "cells": [
  {
   "cell_type": "code",
   "execution_count": 1,
   "metadata": {},
   "outputs": [],
   "source": [
    "import pandas as pd"
   ]
  },
  {
   "cell_type": "code",
   "execution_count": null,
   "metadata": {},
   "outputs": [],
   "source": [
    "df1 = pd.read_json(open('../data/full/smth/xtra/labels.train.json'), orient='record', typ='frame')\n",
    "df1.head()"
   ]
  },
  {
   "cell_type": "code",
   "execution_count": null,
   "metadata": {},
   "outputs": [],
   "source": [
    "with open('../data/dummy/smth/xtra/labels2id.json') as file:\n",
    "    labels2id = json.load(file)\n",
    "labels2id = list(map(lambda _tuple: {'label': _tuple[0], 'id': _tuple[1]}, labels2id.items()))\n",
    "df2 = pd.read_json(json.dumps(labels2id), orient='record', typ='frame')\n",
    "df2.head()"
   ]
  },
  {
   "cell_type": "code",
   "execution_count": null,
   "metadata": {},
   "outputs": [],
   "source": [
    "df1['template'] = df['template'].str.replace('\\[something\\]', 'something')\n",
    "df1.info()"
   ]
  },
  {
   "cell_type": "code",
   "execution_count": null,
   "metadata": {},
   "outputs": [],
   "source": [
    "filtered = df1[df1['template'].isin(df2['label'])].reset_index(drop=True)"
   ]
  },
  {
   "cell_type": "code",
   "execution_count": null,
   "metadata": {},
   "outputs": [],
   "source": [
    "filtered.head()"
   ]
  },
  {
   "cell_type": "code",
   "execution_count": 3,
   "metadata": {},
   "outputs": [
    {
     "name": "stdout",
     "output_type": "stream",
     "text": [
      "<class 'pandas.core.frame.DataFrame'>\n",
      "RangeIndex: 533 entries, 0 to 532\n",
      "Data columns (total 4 columns):\n",
      "id              533 non-null int64\n",
      "label           533 non-null object\n",
      "placeholders    533 non-null object\n",
      "template        533 non-null object\n",
      "dtypes: int64(1), object(3)\n",
      "memory usage: 16.7+ KB\n"
     ]
    },
    {
     "data": {
      "text/html": [
       "<div>\n",
       "<style scoped>\n",
       "    .dataframe tbody tr th:only-of-type {\n",
       "        vertical-align: middle;\n",
       "    }\n",
       "\n",
       "    .dataframe tbody tr th {\n",
       "        vertical-align: top;\n",
       "    }\n",
       "\n",
       "    .dataframe thead th {\n",
       "        text-align: right;\n",
       "    }\n",
       "</style>\n",
       "<table border=\"1\" class=\"dataframe\">\n",
       "  <thead>\n",
       "    <tr style=\"text-align: right;\">\n",
       "      <th></th>\n",
       "      <th>id</th>\n",
       "      <th>label</th>\n",
       "      <th>placeholders</th>\n",
       "      <th>template</th>\n",
       "    </tr>\n",
       "  </thead>\n",
       "  <tbody>\n",
       "    <tr>\n",
       "      <th>0</th>\n",
       "      <td>99855</td>\n",
       "      <td>putting the shaving brush next to geometry box</td>\n",
       "      <td>[the shaving brush, geometry box]</td>\n",
       "      <td>Putting something next to something</td>\n",
       "    </tr>\n",
       "    <tr>\n",
       "      <th>1</th>\n",
       "      <td>32021</td>\n",
       "      <td>attaching top cover to box</td>\n",
       "      <td>[top cover, box]</td>\n",
       "      <td>Attaching something to something</td>\n",
       "    </tr>\n",
       "    <tr>\n",
       "      <th>2</th>\n",
       "      <td>142077</td>\n",
       "      <td>putting google cardboard behind monitor</td>\n",
       "      <td>[google cardboard, monitor]</td>\n",
       "      <td>Putting something behind something</td>\n",
       "    </tr>\n",
       "    <tr>\n",
       "      <th>3</th>\n",
       "      <td>146654</td>\n",
       "      <td>putting perfume bottle into bowl</td>\n",
       "      <td>[perfume bottle, bowl]</td>\n",
       "      <td>Putting something into something</td>\n",
       "    </tr>\n",
       "    <tr>\n",
       "      <th>4</th>\n",
       "      <td>36681</td>\n",
       "      <td>putting wood stick into tomato</td>\n",
       "      <td>[wood stick, tomato]</td>\n",
       "      <td>Putting something into something</td>\n",
       "    </tr>\n",
       "  </tbody>\n",
       "</table>\n",
       "</div>"
      ],
      "text/plain": [
       "       id                                           label  \\\n",
       "0   99855  putting the shaving brush next to geometry box   \n",
       "1   32021                      attaching top cover to box   \n",
       "2  142077         putting google cardboard behind monitor   \n",
       "3  146654                putting perfume bottle into bowl   \n",
       "4   36681                  putting wood stick into tomato   \n",
       "\n",
       "                        placeholders                             template  \n",
       "0  [the shaving brush, geometry box]  Putting something next to something  \n",
       "1                   [top cover, box]     Attaching something to something  \n",
       "2        [google cardboard, monitor]   Putting something behind something  \n",
       "3             [perfume bottle, bowl]     Putting something into something  \n",
       "4               [wood stick, tomato]     Putting something into something  "
      ]
     },
     "execution_count": 3,
     "metadata": {},
     "output_type": "execute_result"
    }
   ],
   "source": [
    "df1 = pd.read_json(open('../../data/dummy/smth/meta/labels.train.json'), orient='record', typ='frame')\n",
    "df1.info()\n",
    "df1.head()"
   ]
  },
  {
   "cell_type": "code",
   "execution_count": null,
   "metadata": {},
   "outputs": [],
   "source": [
    "18609\n",
    "df1['id'] = df1['id'].astype(str)\n",
    "df1.sort_values('id', ascending=False)"
   ]
  },
  {
   "cell_type": "code",
   "execution_count": null,
   "metadata": {},
   "outputs": [],
   "source": [
    "df1 = pd.read_json(open('../../data/dummy/smth/meta/labels.merged.json'), orient='record', typ='frame')\n",
    "df1 = df1.set_index('id', drop=False, verify_integrity=True)\n",
    "df1.index = df1.index.map(str)\n",
    "df1.head()"
   ]
  },
  {
   "cell_type": "code",
   "execution_count": null,
   "metadata": {},
   "outputs": [],
   "source": [
    "%timeit df1.loc['184568']"
   ]
  },
  {
   "cell_type": "code",
   "execution_count": null,
   "metadata": {},
   "outputs": [],
   "source": [
    "df1 = pd.read_json(open('../../data/dummy/smth/meta/labels.merged.json'), orient='record', typ='frame')\n",
    "df1 = df1.set_index('id', drop=False, verify_integrity=True)"
   ]
  },
  {
   "cell_type": "code",
   "execution_count": null,
   "metadata": {},
   "outputs": [],
   "source": [
    "'184568' in df1.index"
   ]
  },
  {
   "cell_type": "code",
   "execution_count": 41,
   "metadata": {},
   "outputs": [
    {
     "data": {
      "text/plain": [
       "18609"
      ]
     },
     "execution_count": 41,
     "metadata": {},
     "output_type": "execute_result"
    }
   ],
   "source": [
    "len(df1.index)"
   ]
  },
  {
   "cell_type": "code",
   "execution_count": 44,
   "metadata": {},
   "outputs": [
    {
     "data": {
      "text/plain": [
       "id                                               184568\n",
       "label           pushing strap camera from right to left\n",
       "placeholders                             [strap camera]\n",
       "split                                             train\n",
       "template           Pushing something from right to left\n",
       "Name: 184568, dtype: object"
      ]
     },
     "execution_count": 44,
     "metadata": {},
     "output_type": "execute_result"
    }
   ],
   "source": [
    "df1.loc['184568']"
   ]
  },
  {
   "cell_type": "code",
   "execution_count": 5,
   "metadata": {},
   "outputs": [
    {
     "data": {
      "text/html": [
       "<div>\n",
       "<style scoped>\n",
       "    .dataframe tbody tr th:only-of-type {\n",
       "        vertical-align: middle;\n",
       "    }\n",
       "\n",
       "    .dataframe tbody tr th {\n",
       "        vertical-align: top;\n",
       "    }\n",
       "\n",
       "    .dataframe thead th {\n",
       "        text-align: right;\n",
       "    }\n",
       "</style>\n",
       "<table border=\"1\" class=\"dataframe\">\n",
       "  <thead>\n",
       "    <tr style=\"text-align: right;\">\n",
       "      <th></th>\n",
       "      <th>framerate</th>\n",
       "      <th>height</th>\n",
       "      <th>id</th>\n",
       "      <th>label</th>\n",
       "      <th>length</th>\n",
       "      <th>path</th>\n",
       "      <th>placeholders</th>\n",
       "      <th>split</th>\n",
       "      <th>template</th>\n",
       "      <th>template_id</th>\n",
       "      <th>width</th>\n",
       "    </tr>\n",
       "  </thead>\n",
       "  <tbody>\n",
       "    <tr>\n",
       "      <th>0</th>\n",
       "      <td>12</td>\n",
       "      <td>240</td>\n",
       "      <td>32502</td>\n",
       "      <td>putting yellow cucumber into earthen pot</td>\n",
       "      <td>38</td>\n",
       "      <td>../data/dummy/smth/raw/32502.webm</td>\n",
       "      <td>[yellow cucumber, earthen pot]</td>\n",
       "      <td>train</td>\n",
       "      <td>Putting something into something</td>\n",
       "      <td>0</td>\n",
       "      <td>427</td>\n",
       "    </tr>\n",
       "    <tr>\n",
       "      <th>1</th>\n",
       "      <td>12</td>\n",
       "      <td>240</td>\n",
       "      <td>7749</td>\n",
       "      <td>putting a toy into a plastic container</td>\n",
       "      <td>66</td>\n",
       "      <td>../data/dummy/smth/raw/7749.webm</td>\n",
       "      <td>[a toy, a plastic container]</td>\n",
       "      <td>train</td>\n",
       "      <td>Putting something into something</td>\n",
       "      <td>0</td>\n",
       "      <td>427</td>\n",
       "    </tr>\n",
       "    <tr>\n",
       "      <th>2</th>\n",
       "      <td>12</td>\n",
       "      <td>240</td>\n",
       "      <td>179493</td>\n",
       "      <td>putting stem with leaves into the bottle</td>\n",
       "      <td>37</td>\n",
       "      <td>../data/dummy/smth/raw/179493.webm</td>\n",
       "      <td>[stem with leaves, the bottle]</td>\n",
       "      <td>train</td>\n",
       "      <td>Putting something into something</td>\n",
       "      <td>0</td>\n",
       "      <td>427</td>\n",
       "    </tr>\n",
       "    <tr>\n",
       "      <th>3</th>\n",
       "      <td>12</td>\n",
       "      <td>240</td>\n",
       "      <td>126958</td>\n",
       "      <td>putting a book into a magazine basket</td>\n",
       "      <td>37</td>\n",
       "      <td>../data/dummy/smth/raw/126958.webm</td>\n",
       "      <td>[a book, a magazine basket]</td>\n",
       "      <td>train</td>\n",
       "      <td>Putting something into something</td>\n",
       "      <td>0</td>\n",
       "      <td>427</td>\n",
       "    </tr>\n",
       "    <tr>\n",
       "      <th>4</th>\n",
       "      <td>12</td>\n",
       "      <td>240</td>\n",
       "      <td>20657</td>\n",
       "      <td>putting fried fish into plate</td>\n",
       "      <td>57</td>\n",
       "      <td>../data/dummy/smth/raw/20657.webm</td>\n",
       "      <td>[fried fish, plate]</td>\n",
       "      <td>train</td>\n",
       "      <td>Putting something into something</td>\n",
       "      <td>0</td>\n",
       "      <td>427</td>\n",
       "    </tr>\n",
       "  </tbody>\n",
       "</table>\n",
       "</div>"
      ],
      "text/plain": [
       "   framerate  height      id                                     label  \\\n",
       "0         12     240   32502  putting yellow cucumber into earthen pot   \n",
       "1         12     240    7749    putting a toy into a plastic container   \n",
       "2         12     240  179493  putting stem with leaves into the bottle   \n",
       "3         12     240  126958     putting a book into a magazine basket   \n",
       "4         12     240   20657             putting fried fish into plate   \n",
       "\n",
       "   length                                path                    placeholders  \\\n",
       "0      38   ../data/dummy/smth/raw/32502.webm  [yellow cucumber, earthen pot]   \n",
       "1      66    ../data/dummy/smth/raw/7749.webm    [a toy, a plastic container]   \n",
       "2      37  ../data/dummy/smth/raw/179493.webm  [stem with leaves, the bottle]   \n",
       "3      37  ../data/dummy/smth/raw/126958.webm     [a book, a magazine basket]   \n",
       "4      57   ../data/dummy/smth/raw/20657.webm             [fried fish, plate]   \n",
       "\n",
       "   split                          template  template_id  width  \n",
       "0  train  Putting something into something            0    427  \n",
       "1  train  Putting something into something            0    427  \n",
       "2  train  Putting something into something            0    427  \n",
       "3  train  Putting something into something            0    427  \n",
       "4  train  Putting something into something            0    427  "
      ]
     },
     "execution_count": 5,
     "metadata": {},
     "output_type": "execute_result"
    }
   ],
   "source": [
    "df1 = pd.read_json(open('../../data/dummy/smth/meta/meta.merged.json'), orient='record', typ='frame')\n",
    "df1.head()"
   ]
  },
  {
   "cell_type": "code",
   "execution_count": 3,
   "metadata": {},
   "outputs": [
    {
     "name": "stdout",
     "output_type": "stream",
     "text": [
      "<class 'pandas.core.frame.DataFrame'>\n",
      "RangeIndex: 132 entries, 0 to 131\n",
      "Data columns (total 8 columns):\n",
      "framerate       132 non-null int64\n",
      "height          132 non-null int64\n",
      "id              132 non-null int64\n",
      "label           132 non-null object\n",
      "path            132 non-null object\n",
      "placeholders    132 non-null object\n",
      "template        132 non-null object\n",
      "width           132 non-null int64\n",
      "dtypes: int64(4), object(4)\n",
      "memory usage: 8.3+ KB\n"
     ]
    }
   ],
   "source": [
    "df1.info()"
   ]
  },
  {
   "cell_type": "code",
   "execution_count": 11,
   "metadata": {},
   "outputs": [],
   "source": [
    "import os; os.chdir('/Users/Play/Code/AI/master-thesis/src')\n",
    "import helpers as hp\n",
    "import constants as ct"
   ]
  },
  {
   "cell_type": "code",
   "execution_count": 13,
   "metadata": {},
   "outputs": [],
   "source": [
    "la2li = hp.read_smth_meta(ct.SMTH_META_TRAIN)"
   ]
  },
  {
   "cell_type": "code",
   "execution_count": 14,
   "metadata": {},
   "outputs": [
    {
     "data": {
      "text/html": [
       "<div>\n",
       "<style scoped>\n",
       "    .dataframe tbody tr th:only-of-type {\n",
       "        vertical-align: middle;\n",
       "    }\n",
       "\n",
       "    .dataframe tbody tr th {\n",
       "        vertical-align: top;\n",
       "    }\n",
       "\n",
       "    .dataframe thead th {\n",
       "        text-align: right;\n",
       "    }\n",
       "</style>\n",
       "<table border=\"1\" class=\"dataframe\">\n",
       "  <thead>\n",
       "    <tr style=\"text-align: right;\">\n",
       "      <th></th>\n",
       "      <th>id</th>\n",
       "      <th>label</th>\n",
       "      <th>placeholders</th>\n",
       "      <th>template</th>\n",
       "    </tr>\n",
       "    <tr>\n",
       "      <th>id</th>\n",
       "      <th></th>\n",
       "      <th></th>\n",
       "      <th></th>\n",
       "      <th></th>\n",
       "    </tr>\n",
       "  </thead>\n",
       "  <tbody>\n",
       "    <tr>\n",
       "      <th>125661</th>\n",
       "      <td>125661</td>\n",
       "      <td>tilting a tape dispenser with a bottle of loti...</td>\n",
       "      <td>[a tape dispenser, a bottle of lotion]</td>\n",
       "      <td>Tilting something with something on it slightl...</td>\n",
       "    </tr>\n",
       "    <tr>\n",
       "      <th>93221</th>\n",
       "      <td>93221</td>\n",
       "      <td>tilting spoon with chaps on it slightly so it ...</td>\n",
       "      <td>[spoon, chaps]</td>\n",
       "      <td>Tilting something with something on it slightl...</td>\n",
       "    </tr>\n",
       "    <tr>\n",
       "      <th>29277</th>\n",
       "      <td>29277</td>\n",
       "      <td>tilting hat with matchbox on it until it falls...</td>\n",
       "      <td>[hat, matchbox]</td>\n",
       "      <td>Tilting something with something on it until i...</td>\n",
       "    </tr>\n",
       "    <tr>\n",
       "      <th>79282</th>\n",
       "      <td>79282</td>\n",
       "      <td>tilting container with bottle on it until it f...</td>\n",
       "      <td>[container, bottle]</td>\n",
       "      <td>Tilting something with something on it until i...</td>\n",
       "    </tr>\n",
       "  </tbody>\n",
       "</table>\n",
       "</div>"
      ],
      "text/plain": [
       "            id                                              label  \\\n",
       "id                                                                  \n",
       "125661  125661  tilting a tape dispenser with a bottle of loti...   \n",
       "93221    93221  tilting spoon with chaps on it slightly so it ...   \n",
       "29277    29277  tilting hat with matchbox on it until it falls...   \n",
       "79282    79282  tilting container with bottle on it until it f...   \n",
       "\n",
       "                                  placeholders  \\\n",
       "id                                               \n",
       "125661  [a tape dispenser, a bottle of lotion]   \n",
       "93221                           [spoon, chaps]   \n",
       "29277                          [hat, matchbox]   \n",
       "79282                      [container, bottle]   \n",
       "\n",
       "                                                 template  \n",
       "id                                                         \n",
       "125661  Tilting something with something on it slightl...  \n",
       "93221   Tilting something with something on it slightl...  \n",
       "29277   Tilting something with something on it until i...  \n",
       "79282   Tilting something with something on it until i...  "
      ]
     },
     "execution_count": 14,
     "metadata": {},
     "output_type": "execute_result"
    }
   ],
   "source": [
    "la2li"
   ]
  },
  {
   "cell_type": "code",
   "execution_count": 1,
   "metadata": {},
   "outputs": [],
   "source": [
    "d = {\n",
    " \"Wiping something off of something\": 0,\n",
    " \"Pretending or failing to wipe something off of something\": 0,\n",
    " \"Closing something\": 20,\n",
    " \"Pretending to close something without actually closing it\": 1,\n",
    " \"Opening something\": 20,\n",
    " \"Pretending to open something without actually opening it\": 2,\n",
    " \"Picking something up\": 55,\n",
    " \"Pretending to pick something up\": 3,\n",
    " \"Turning something upside down\": 4,\n",
    " \"Pretending to turn something upside down\": 4,\n",
    " \"Putting something into something\": 61,\n",
    " \"Pretending to put something into something\": 64,\n",
    " \"Putting something behind something\": 59,\n",
    " \"Pretending to put something behind something\": 64,\n",
    " \"Putting something next to something\": 59,\n",
    " \"Pretending to put something next to something\": 64,\n",
    " \"Putting something on a surface\": 62,\n",
    " \"Pretending to put something on a surface\": 8,\n",
    " \"Putting something onto something\": 59,\n",
    " \"Pretending to put something onto something\": 64,\n",
    " \"Putting something underneath something\": 59,\n",
    " \"Pretending to put something underneath something\": 64,\n",
    " \"Scooping something up with something\": 55,\n",
    " \"Pretending to scoop something up with something\": 11,\n",
    " \"Throwing something\": 12,\n",
    " \"Pretending to throw something\": 12,\n",
    " \"Taking something out of something\": 61,\n",
    " \"Pretending to take something out of something\": 13,\n",
    " \"Spreading something onto something\": 14,\n",
    " \"Pretending to spread air onto something\": 14,\n",
    " \"Sprinkling something onto something\": 15,\n",
    " \"Pretending to sprinkle air onto something\": 15,\n",
    " \"Pouring something out of something\": 16,\n",
    " \"Pretending to pour something out of something, but something is empty\": 16,\n",
    " \"Taking something from somewhere\": 17,\n",
    " \"Pretending to take something from somewhere\": 17,\n",
    " \"Twisting (wringing) something wet until water comes out\": 18,\n",
    " \"Twisting something\": 18,\n",
    " \"Tearing something into two pieces\": 19,\n",
    " \"Tearing something just a little bit\": 19,\n",
    " \"Poking a stack of something so the stack collapses\": 21,\n",
    " \"Poking a stack of something without the stack collapsing\": 21,\n",
    " \"Attaching something to something\": 22,\n",
    " \"Trying but failing to attach something to something because it doesn't stick\": 22,\n",
    " \"Folding something\": 23,\n",
    " \"Unfolding something\": 23,\n",
    " \"Moving something across a surface until it falls down\": 24,\n",
    " \"Pushing something so that it falls off the table\": 24,\n",
    " \"Moving something across a surface without it falling down\": 24,\n",
    " \"Pushing something so that it almost falls off but doesn't\": 24,\n",
    " \"Covering something with something\": 44,\n",
    " \"Uncovering something\": 25,\n",
    " \"Throwing something in the air and catching it\": 26,\n",
    " \"Throwing something in the air and letting it fall\": 26,\n",
    " \"Lifting up one end of something without letting it drop down\": 27,\n",
    " \"Lifting up one end of something, then letting it drop down\": 27,\n",
    " \"Lifting something up completely without letting it drop down\": 28,\n",
    " \"Lifting something up completely, then letting it drop down\": 28,\n",
    " \"Lifting a surface with something on it but not enough for it to slide down\": 29,\n",
    " \"Lifting a surface with something on it until it starts sliding down\": 29,\n",
    " \"Pulling two ends of something so that it gets stretched\": 30,\n",
    " \"Pulling two ends of something so that it separates into two pieces\": 30,\n",
    " \"Moving something and something so they collide with each other\": 31,\n",
    " \"Moving something and something so they pass each other\": 31,\n",
    " \"Something falling like a feather or paper\": 32,\n",
    " \"Something falling like a rock\": 32,\n",
    " \"Spinning something so it continues spinning\": 33,\n",
    " \"Spinning something that quickly stops spinning\": 33,\n",
    " \"Putting something that can't roll onto a slanted surface, so it slides down\": 34,\n",
    " \"Putting something that can't roll onto a slanted surface, so it stays where it is\": 34,\n",
    " \"Something colliding with something and both are being deflected\": 35,\n",
    " \"Something colliding with something and both come to a halt\": 35,\n",
    " \"Plugging something into something\": 36,\n",
    " \"Plugging something into something but pulling it right out as you remove your hand\": 36,\n",
    " \"Tilting something with something on it slightly so it doesn't fall down\": 37,\n",
    " \"Tilting something with something on it until it falls off\": 37,\n",
    " \"Burying something in something\": 43,\n",
    " \"Digging something out of something\": 44,\n",
    " \"Poking a hole into some substance\": 39,\n",
    " \"Poking a hole into something soft\": 39,\n",
    " \"Poking something so it slightly moves\": 40,\n",
    " \"Poking something so lightly that it doesn't or almost doesn't move\": 40,\n",
    " \"Poking something so that it falls over\": 40,\n",
    " \"Poking something so that it spins around\": 40,\n",
    " \"Pouring something into something\": 42,\n",
    " \"Trying to pour something into something, but missing so it spills next to it\": 41,\n",
    " \"Pouring something into something until it overflows\": 42,\n",
    " \"Pouring something onto something\": 42,\n",
    " \"Bending something so that it deforms\": 45,\n",
    " \"Bending something until it breaks\": 45,\n",
    " \"Dropping something behind something\": 48,\n",
    " \"Dropping something in front of something\": 49,\n",
    " \"Dropping something into something\": 50,\n",
    " \"Dropping something onto something\": 52,\n",
    " \"Putting something in front of something\": 59,\n",
    " \"Dropping something next to something\": 51,\n",
    " \"Failing to put something into something because something does not fit\": 54,\n",
    " \"Tipping something over\": 57,\n",
    " \"Touching (without moving) part of something\": 58,\n",
    " \"Tipping something with something in it over, so something in it falls out\": 58,\n",
    " \"Putting something similar to other things that are already on the table\": 60,\n",
    " \"Taking one of many similar things on the table\": 60,\n",
    " \"Putting something on the edge of something so it is not supported and falls down\": 62,\n",
    " \"Laying something on the table on its side, not upright\": 63,\n",
    " \"Putting something that cannot actually stand upright upright on the table, so it falls on its side\": 63,\n",
    " \"Putting something upright on the table\": 63,\n",
    " \"Putting something on a flat surface without letting it roll\": 67,\n",
    " \"Rolling something on a flat surface\": 67,\n",
    " \"Spilling something behind something\": 66,\n",
    " \"Spilling something next to something\": 66,\n",
    " \"Spilling something onto something\": 66,\n",
    " \"Letting something roll along a flat surface\": 67,\n",
    " \"Putting something onto a slanted surface but it doesn't glide down\": 68,\n",
    " \"Letting something roll down a slanted surface\": 68\n",
    "}"
   ]
  },
  {
   "cell_type": "code",
   "execution_count": null,
   "metadata": {},
   "outputs": [],
   "source": []
  }
 ],
 "metadata": {
  "kernelspec": {
   "display_name": "Python 3",
   "language": "python",
   "name": "python3"
  },
  "language_info": {
   "codemirror_mode": {
    "name": "ipython",
    "version": 3
   },
   "file_extension": ".py",
   "mimetype": "text/x-python",
   "name": "python",
   "nbconvert_exporter": "python",
   "pygments_lexer": "ipython3",
   "version": "3.6.8"
  },
  "toc": {
   "base_numbering": 1,
   "nav_menu": {},
   "number_sections": true,
   "sideBar": true,
   "skip_h1_title": false,
   "title_cell": "Table of Contents",
   "title_sidebar": "Contents",
   "toc_cell": false,
   "toc_position": {},
   "toc_section_display": true,
   "toc_window_display": false
  }
 },
 "nbformat": 4,
 "nbformat_minor": 2
}
