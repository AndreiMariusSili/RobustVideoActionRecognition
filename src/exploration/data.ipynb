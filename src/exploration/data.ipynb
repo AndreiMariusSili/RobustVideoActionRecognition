{
 "cells": [
  {
   "cell_type": "code",
   "execution_count": 1,
   "metadata": {},
   "outputs": [],
   "source": [
    "import pandas as pd"
   ]
  },
  {
   "cell_type": "code",
   "execution_count": null,
   "metadata": {},
   "outputs": [],
   "source": [
    "df1 = pd.read_json(open('../data/full/smth/xtra/labels.train.json'), orient='record', typ='frame')\n",
    "df1.head()"
   ]
  },
  {
   "cell_type": "code",
   "execution_count": null,
   "metadata": {},
   "outputs": [],
   "source": [
    "with open('../data/dummy/smth/xtra/labels2id.json') as file:\n",
    "    labels2id = json.load(file)\n",
    "labels2id = list(map(lambda _tuple: {'label': _tuple[0], 'id': _tuple[1]}, labels2id.items()))\n",
    "df2 = pd.read_json(json.dumps(labels2id), orient='record', typ='frame')\n",
    "df2.head()"
   ]
  },
  {
   "cell_type": "code",
   "execution_count": null,
   "metadata": {},
   "outputs": [],
   "source": [
    "df1['template'] = df['template'].str.replace('\\[something\\]', 'something')\n",
    "df1.info()"
   ]
  },
  {
   "cell_type": "code",
   "execution_count": null,
   "metadata": {},
   "outputs": [],
   "source": [
    "filtered = df1[df1['template'].isin(df2['label'])].reset_index(drop=True)"
   ]
  },
  {
   "cell_type": "code",
   "execution_count": null,
   "metadata": {},
   "outputs": [],
   "source": [
    "filtered.head()"
   ]
  },
  {
   "cell_type": "code",
   "execution_count": 3,
   "metadata": {},
   "outputs": [
    {
     "name": "stdout",
     "output_type": "stream",
     "text": [
      "<class 'pandas.core.frame.DataFrame'>\n",
      "RangeIndex: 533 entries, 0 to 532\n",
      "Data columns (total 4 columns):\n",
      "id              533 non-null int64\n",
      "label           533 non-null object\n",
      "placeholders    533 non-null object\n",
      "template        533 non-null object\n",
      "dtypes: int64(1), object(3)\n",
      "memory usage: 16.7+ KB\n"
     ]
    },
    {
     "data": {
      "text/html": [
       "<div>\n",
       "<style scoped>\n",
       "    .dataframe tbody tr th:only-of-type {\n",
       "        vertical-align: middle;\n",
       "    }\n",
       "\n",
       "    .dataframe tbody tr th {\n",
       "        vertical-align: top;\n",
       "    }\n",
       "\n",
       "    .dataframe thead th {\n",
       "        text-align: right;\n",
       "    }\n",
       "</style>\n",
       "<table border=\"1\" class=\"dataframe\">\n",
       "  <thead>\n",
       "    <tr style=\"text-align: right;\">\n",
       "      <th></th>\n",
       "      <th>id</th>\n",
       "      <th>label</th>\n",
       "      <th>placeholders</th>\n",
       "      <th>template</th>\n",
       "    </tr>\n",
       "  </thead>\n",
       "  <tbody>\n",
       "    <tr>\n",
       "      <th>0</th>\n",
       "      <td>99855</td>\n",
       "      <td>putting the shaving brush next to geometry box</td>\n",
       "      <td>[the shaving brush, geometry box]</td>\n",
       "      <td>Putting something next to something</td>\n",
       "    </tr>\n",
       "    <tr>\n",
       "      <th>1</th>\n",
       "      <td>32021</td>\n",
       "      <td>attaching top cover to box</td>\n",
       "      <td>[top cover, box]</td>\n",
       "      <td>Attaching something to something</td>\n",
       "    </tr>\n",
       "    <tr>\n",
       "      <th>2</th>\n",
       "      <td>142077</td>\n",
       "      <td>putting google cardboard behind monitor</td>\n",
       "      <td>[google cardboard, monitor]</td>\n",
       "      <td>Putting something behind something</td>\n",
       "    </tr>\n",
       "    <tr>\n",
       "      <th>3</th>\n",
       "      <td>146654</td>\n",
       "      <td>putting perfume bottle into bowl</td>\n",
       "      <td>[perfume bottle, bowl]</td>\n",
       "      <td>Putting something into something</td>\n",
       "    </tr>\n",
       "    <tr>\n",
       "      <th>4</th>\n",
       "      <td>36681</td>\n",
       "      <td>putting wood stick into tomato</td>\n",
       "      <td>[wood stick, tomato]</td>\n",
       "      <td>Putting something into something</td>\n",
       "    </tr>\n",
       "  </tbody>\n",
       "</table>\n",
       "</div>"
      ],
      "text/plain": [
       "       id                                           label  \\\n",
       "0   99855  putting the shaving brush next to geometry box   \n",
       "1   32021                      attaching top cover to box   \n",
       "2  142077         putting google cardboard behind monitor   \n",
       "3  146654                putting perfume bottle into bowl   \n",
       "4   36681                  putting wood stick into tomato   \n",
       "\n",
       "                        placeholders                             template  \n",
       "0  [the shaving brush, geometry box]  Putting something next to something  \n",
       "1                   [top cover, box]     Attaching something to something  \n",
       "2        [google cardboard, monitor]   Putting something behind something  \n",
       "3             [perfume bottle, bowl]     Putting something into something  \n",
       "4               [wood stick, tomato]     Putting something into something  "
      ]
     },
     "execution_count": 3,
     "metadata": {},
     "output_type": "execute_result"
    }
   ],
   "source": [
    "df1 = pd.read_json(open('../../data/dummy/smth/meta/labels.train.json'), orient='record', typ='frame')\n",
    "df1.info()\n",
    "df1.head()"
   ]
  },
  {
   "cell_type": "code",
   "execution_count": null,
   "metadata": {},
   "outputs": [],
   "source": [
    "18609\n",
    "df1['id'] = df1['id'].astype(str)\n",
    "df1.sort_values('id', ascending=False)"
   ]
  },
  {
   "cell_type": "code",
   "execution_count": null,
   "metadata": {},
   "outputs": [],
   "source": [
    "df1 = pd.read_json(open('../../data/dummy/smth/meta/labels.merged.json'), orient='record', typ='frame')\n",
    "df1 = df1.set_index('id', drop=False, verify_integrity=True)\n",
    "df1.index = df1.index.map(str)\n",
    "df1.head()"
   ]
  },
  {
   "cell_type": "code",
   "execution_count": null,
   "metadata": {},
   "outputs": [],
   "source": [
    "%timeit df1.loc['184568']"
   ]
  },
  {
   "cell_type": "code",
   "execution_count": null,
   "metadata": {},
   "outputs": [],
   "source": [
    "df1 = pd.read_json(open('../../data/dummy/smth/meta/labels.merged.json'), orient='record', typ='frame')\n",
    "df1 = df1.set_index('id', drop=False, verify_integrity=True)"
   ]
  },
  {
   "cell_type": "code",
   "execution_count": null,
   "metadata": {},
   "outputs": [],
   "source": [
    "'184568' in df1.index"
   ]
  },
  {
   "cell_type": "code",
   "execution_count": 41,
   "metadata": {},
   "outputs": [
    {
     "data": {
      "text/plain": [
       "18609"
      ]
     },
     "execution_count": 41,
     "metadata": {},
     "output_type": "execute_result"
    }
   ],
   "source": [
    "len(df1.index)"
   ]
  },
  {
   "cell_type": "code",
   "execution_count": 44,
   "metadata": {},
   "outputs": [
    {
     "data": {
      "text/plain": [
       "id                                               184568\n",
       "label           pushing strap camera from right to left\n",
       "placeholders                             [strap camera]\n",
       "split                                             train\n",
       "template           Pushing something from right to left\n",
       "Name: 184568, dtype: object"
      ]
     },
     "execution_count": 44,
     "metadata": {},
     "output_type": "execute_result"
    }
   ],
   "source": [
    "df1.loc['184568']"
   ]
  },
  {
   "cell_type": "code",
   "execution_count": 5,
   "metadata": {},
   "outputs": [
    {
     "data": {
      "text/html": [
       "<div>\n",
       "<style scoped>\n",
       "    .dataframe tbody tr th:only-of-type {\n",
       "        vertical-align: middle;\n",
       "    }\n",
       "\n",
       "    .dataframe tbody tr th {\n",
       "        vertical-align: top;\n",
       "    }\n",
       "\n",
       "    .dataframe thead th {\n",
       "        text-align: right;\n",
       "    }\n",
       "</style>\n",
       "<table border=\"1\" class=\"dataframe\">\n",
       "  <thead>\n",
       "    <tr style=\"text-align: right;\">\n",
       "      <th></th>\n",
       "      <th>framerate</th>\n",
       "      <th>height</th>\n",
       "      <th>id</th>\n",
       "      <th>label</th>\n",
       "      <th>length</th>\n",
       "      <th>path</th>\n",
       "      <th>placeholders</th>\n",
       "      <th>split</th>\n",
       "      <th>template</th>\n",
       "      <th>template_id</th>\n",
       "      <th>width</th>\n",
       "    </tr>\n",
       "  </thead>\n",
       "  <tbody>\n",
       "    <tr>\n",
       "      <th>0</th>\n",
       "      <td>12</td>\n",
       "      <td>240</td>\n",
       "      <td>32502</td>\n",
       "      <td>putting yellow cucumber into earthen pot</td>\n",
       "      <td>38</td>\n",
       "      <td>../data/dummy/smth/raw/32502.webm</td>\n",
       "      <td>[yellow cucumber, earthen pot]</td>\n",
       "      <td>train</td>\n",
       "      <td>Putting something into something</td>\n",
       "      <td>0</td>\n",
       "      <td>427</td>\n",
       "    </tr>\n",
       "    <tr>\n",
       "      <th>1</th>\n",
       "      <td>12</td>\n",
       "      <td>240</td>\n",
       "      <td>7749</td>\n",
       "      <td>putting a toy into a plastic container</td>\n",
       "      <td>66</td>\n",
       "      <td>../data/dummy/smth/raw/7749.webm</td>\n",
       "      <td>[a toy, a plastic container]</td>\n",
       "      <td>train</td>\n",
       "      <td>Putting something into something</td>\n",
       "      <td>0</td>\n",
       "      <td>427</td>\n",
       "    </tr>\n",
       "    <tr>\n",
       "      <th>2</th>\n",
       "      <td>12</td>\n",
       "      <td>240</td>\n",
       "      <td>179493</td>\n",
       "      <td>putting stem with leaves into the bottle</td>\n",
       "      <td>37</td>\n",
       "      <td>../data/dummy/smth/raw/179493.webm</td>\n",
       "      <td>[stem with leaves, the bottle]</td>\n",
       "      <td>train</td>\n",
       "      <td>Putting something into something</td>\n",
       "      <td>0</td>\n",
       "      <td>427</td>\n",
       "    </tr>\n",
       "    <tr>\n",
       "      <th>3</th>\n",
       "      <td>12</td>\n",
       "      <td>240</td>\n",
       "      <td>126958</td>\n",
       "      <td>putting a book into a magazine basket</td>\n",
       "      <td>37</td>\n",
       "      <td>../data/dummy/smth/raw/126958.webm</td>\n",
       "      <td>[a book, a magazine basket]</td>\n",
       "      <td>train</td>\n",
       "      <td>Putting something into something</td>\n",
       "      <td>0</td>\n",
       "      <td>427</td>\n",
       "    </tr>\n",
       "    <tr>\n",
       "      <th>4</th>\n",
       "      <td>12</td>\n",
       "      <td>240</td>\n",
       "      <td>20657</td>\n",
       "      <td>putting fried fish into plate</td>\n",
       "      <td>57</td>\n",
       "      <td>../data/dummy/smth/raw/20657.webm</td>\n",
       "      <td>[fried fish, plate]</td>\n",
       "      <td>train</td>\n",
       "      <td>Putting something into something</td>\n",
       "      <td>0</td>\n",
       "      <td>427</td>\n",
       "    </tr>\n",
       "  </tbody>\n",
       "</table>\n",
       "</div>"
      ],
      "text/plain": [
       "   framerate  height      id                                     label  \\\n",
       "0         12     240   32502  putting yellow cucumber into earthen pot   \n",
       "1         12     240    7749    putting a toy into a plastic container   \n",
       "2         12     240  179493  putting stem with leaves into the bottle   \n",
       "3         12     240  126958     putting a book into a magazine basket   \n",
       "4         12     240   20657             putting fried fish into plate   \n",
       "\n",
       "   length                                path                    placeholders  \\\n",
       "0      38   ../data/dummy/smth/raw/32502.webm  [yellow cucumber, earthen pot]   \n",
       "1      66    ../data/dummy/smth/raw/7749.webm    [a toy, a plastic container]   \n",
       "2      37  ../data/dummy/smth/raw/179493.webm  [stem with leaves, the bottle]   \n",
       "3      37  ../data/dummy/smth/raw/126958.webm     [a book, a magazine basket]   \n",
       "4      57   ../data/dummy/smth/raw/20657.webm             [fried fish, plate]   \n",
       "\n",
       "   split                          template  template_id  width  \n",
       "0  train  Putting something into something            0    427  \n",
       "1  train  Putting something into something            0    427  \n",
       "2  train  Putting something into something            0    427  \n",
       "3  train  Putting something into something            0    427  \n",
       "4  train  Putting something into something            0    427  "
      ]
     },
     "execution_count": 5,
     "metadata": {},
     "output_type": "execute_result"
    }
   ],
   "source": [
    "df1 = pd.read_json(open('../../data/dummy/smth/meta/meta.merged.json'), orient='record', typ='frame')\n",
    "df1.head()"
   ]
  },
  {
   "cell_type": "code",
   "execution_count": 3,
   "metadata": {},
   "outputs": [
    {
     "name": "stdout",
     "output_type": "stream",
     "text": [
      "<class 'pandas.core.frame.DataFrame'>\n",
      "RangeIndex: 132 entries, 0 to 131\n",
      "Data columns (total 8 columns):\n",
      "framerate       132 non-null int64\n",
      "height          132 non-null int64\n",
      "id              132 non-null int64\n",
      "label           132 non-null object\n",
      "path            132 non-null object\n",
      "placeholders    132 non-null object\n",
      "template        132 non-null object\n",
      "width           132 non-null int64\n",
      "dtypes: int64(4), object(4)\n",
      "memory usage: 8.3+ KB\n"
     ]
    }
   ],
   "source": [
    "df1.info()"
   ]
  },
  {
   "cell_type": "code",
   "execution_count": null,
   "metadata": {},
   "outputs": [],
   "source": []
  }
 ],
 "metadata": {
  "kernelspec": {
   "display_name": "Python 3",
   "language": "python",
   "name": "python3"
  },
  "language_info": {
   "codemirror_mode": {
    "name": "ipython",
    "version": 3
   },
   "file_extension": ".py",
   "mimetype": "text/x-python",
   "name": "python",
   "nbconvert_exporter": "python",
   "pygments_lexer": "ipython3",
   "version": "3.7.2"
  },
  "toc": {
   "base_numbering": 1,
   "nav_menu": {},
   "number_sections": true,
   "sideBar": true,
   "skip_h1_title": false,
   "title_cell": "Table of Contents",
   "title_sidebar": "Contents",
   "toc_cell": false,
   "toc_position": {},
   "toc_section_display": true,
   "toc_window_display": false
  }
 },
 "nbformat": 4,
 "nbformat_minor": 2
}
