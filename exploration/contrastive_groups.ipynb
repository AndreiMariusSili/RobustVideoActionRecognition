{
 "cells": [
  {
   "cell_type": "code",
   "execution_count": 1,
   "metadata": {
    "pycharm": {
     "is_executing": false
    }
   },
   "outputs": [],
   "source": [
    "import json\n",
    "import os; os.chdir('/Users/Play/Code/AI/master-thesis/src')\n",
    "import pandas as pd\n",
    "import constants as ct\n",
    "import helpers as ghp\n",
    "\n",
    "GROUPS_NAME = 'contrastive_groups_list.txt'\n",
    "LABELS_NAME = 'something-something-v2-labels.json'"
   ]
  },
  {
   "cell_type": "code",
   "execution_count": 5,
   "metadata": {
    "pycharm": {
     "is_executing": false,
     "name": "#%%\n"
    }
   },
   "outputs": [],
   "source": [
    "def _create_labels():\n",
    "    \"\"\"Create the labels DataFrame from the raw json.\"\"\"\n",
    "    with open((ct.SMTH_ROOT_DIR / LABELS_NAME).as_posix(), 'r') as file:\n",
    "        labels = json.load(file)\n",
    "    return pd.DataFrame(labels.items(), columns=['label', 'lid']) \\\n",
    "        .astype({'label': str, 'lid': int}) \\\n",
    "        .set_index('label', verify_integrity=True)\n",
    "\n",
    "\n",
    "def _create_groups() -> pd.DataFrame:\n",
    "    \"\"\"Create the groups DataFrame from the raw txt.\"\"\"\n",
    "    with open((ct.SMTH_ROOT_DIR / GROUPS_NAME).as_posix(), 'r') as file:\n",
    "        txt = file.read()\n",
    "    groups = [list(filter(lambda x: x and not x.startswith('#'), group.split('\\n'))) for group in txt.split('\\n\\n')]\n",
    "\n",
    "    data = []\n",
    "    for gid, group in enumerate(groups):\n",
    "        for label in group:\n",
    "            data.append([label, gid])\n",
    "\n",
    "    return pd.DataFrame(data, columns=['label', 'gid']) \\\n",
    "        .astype({'label': str, 'gid': int}) \\\n",
    "        .set_index('label')\n",
    "\n",
    "l = _create_labels()\n",
    "g = _create_groups()"
   ]
  },
  {
   "cell_type": "code",
   "execution_count": 5,
   "outputs": [],
   "source": [
    "smth_meta = ghp.read_meta(ct.SMTH_META_VALID_1)\n",
    "hmdb_meta = ghp.read_meta(ct.HMDB_META_DEV_1)"
   ],
   "metadata": {
    "collapsed": false,
    "pycharm": {
     "name": "#%%\n",
     "is_executing": false
    }
   }
  },
  {
   "cell_type": "code",
   "execution_count": 2,
   "outputs": [],
   "source": [
    "\n"
   ],
   "metadata": {
    "collapsed": false,
    "pycharm": {
     "name": "#%%\n",
     "is_executing": false
    }
   }
  }
 ],
 "metadata": {
  "kernelspec": {
   "display_name": "Python 3",
   "language": "python",
   "name": "python3"
  },
  "language_info": {
   "codemirror_mode": {
    "name": "ipython",
    "version": 3
   },
   "file_extension": ".py",
   "mimetype": "text/x-python",
   "name": "python",
   "nbconvert_exporter": "python",
   "pygments_lexer": "ipython3",
   "version": "3.6.8"
  },
  "toc": {
   "base_numbering": 1,
   "nav_menu": {},
   "number_sections": true,
   "sideBar": true,
   "skip_h1_title": false,
   "title_cell": "Table of Contents",
   "title_sidebar": "Contents",
   "toc_cell": false,
   "toc_position": {},
   "toc_section_display": true,
   "toc_window_display": false
  },
  "pycharm": {
   "stem_cell": {
    "cell_type": "raw",
    "source": [],
    "metadata": {
     "collapsed": false
    }
   }
  }
 },
 "nbformat": 4,
 "nbformat_minor": 2
}