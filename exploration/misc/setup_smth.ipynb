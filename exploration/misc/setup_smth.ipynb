{
 "cells": [
  {
   "cell_type": "code",
   "execution_count": 1,
   "metadata": {
    "collapsed": true,
    "pycharm": {
     "is_executing": false
    }
   },
   "outputs": [
    {
     "data": {
      "text/plain": "'/Users/Play/Code/AI/master-thesis/src'"
     },
     "metadata": {},
     "output_type": "execute_result",
     "execution_count": 1
    }
   ],
   "source": [
    "import os; os.chdir(os.getenv('MT_ROOT') + '/src'); os.getcwd()"
   ]
  },
  {
   "cell_type": "code",
   "execution_count": 2,
   "outputs": [],
   "source": [
    "import json\n",
    "\n",
    "import pandas as pd\n",
    "import constants as ct\n",
    "import helpers as hp"
   ],
   "metadata": {
    "collapsed": false,
    "pycharm": {
     "name": "#%%\n",
     "is_executing": false
    }
   }
  },
  {
   "cell_type": "code",
   "execution_count": 3,
   "outputs": [],
   "source": [
    "label2lid = ct.SMTH_LABEL2LID\n",
    "df: pd.DataFrame = pd.read_json(label2lid, 'index')\n",
    "df.columns = ['id']\n",
    "df.to_json(label2lid, 'index')"
   ],
   "metadata": {
    "collapsed": false,
    "pycharm": {
     "name": "#%%\n",
     "is_executing": false
    }
   }
  },
  {
   "cell_type": "code",
   "execution_count": 4,
   "outputs": [],
   "source": [
    "label2gid = ct.SMTH_LABEL2GID\n",
    "df: pd.DataFrame = pd.read_json(label2gid, 'index')\n",
    "df.columns = ['id']\n",
    "df.to_json(label2gid, 'index')"
   ],
   "metadata": {
    "collapsed": false,
    "pycharm": {
     "name": "#%%\n",
     "is_executing": false
    }
   }
  },
  {
   "cell_type": "code",
   "execution_count": 7,
   "outputs": [],
   "source": [
    "def _create_gid2labels_record(_tuple):\n",
    "    return [{'id': _tuple[0], 'template': template} for template in _tuple[1]]\n",
    "gid2labels = ct.SMTH_GID2LABELS\n",
    "\n",
    "with open(gid2labels) as file:\n",
    "    gid2labels = json.load(file)\n",
    "# noinspection PyTypeChecker\n",
    "gid2labels= list(map(_create_gid2labels_record, gid2labels.items()))\n",
    "flat_gid2labels = [item for sublist in gid2labels for item in sublist]\n",
    "df = pd.read_json(json.dumps(flat_gid2labels), orient='records', typ='frame', dtype=True, encoding='utf-8')\n",
    "_range = pd.RangeIndex(0, len(df))\n",
    "df = df.set_index(['id', _range], drop=False, verify_integrity=True)\n",
    "df.index = df.index.map(lambda _tuple: (int(_tuple[0]), int(_tuple[1])))\n",
    "df = df.rename_axis(index=['group_id', 'range'])\n",
    "\n",
    "df.to_json(ct.SMTH_GID2LABELS, 'index')"
   ],
   "metadata": {
    "collapsed": false,
    "pycharm": {
     "name": "#%%\n",
     "is_executing": false
    }
   }
  }
 ],
 "metadata": {
  "language_info": {
   "codemirror_mode": {
    "name": "ipython",
    "version": 2
   },
   "file_extension": ".py",
   "mimetype": "text/x-python",
   "name": "python",
   "nbconvert_exporter": "python",
   "pygments_lexer": "ipython2",
   "version": "2.7.6"
  },
  "kernelspec": {
   "name": "python3",
   "language": "python",
   "display_name": "Python 3"
  },
  "pycharm": {
   "stem_cell": {
    "cell_type": "raw",
    "source": [],
    "metadata": {
     "collapsed": false
    }
   }
  }
 },
 "nbformat": 4,
 "nbformat_minor": 0
}