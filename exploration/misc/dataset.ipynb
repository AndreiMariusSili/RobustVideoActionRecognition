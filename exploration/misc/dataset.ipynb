{
 "cells": [
  {
   "cell_type": "code",
   "execution_count": 1,
   "metadata": {},
   "outputs": [],
   "source": [
    "\n",
    "%load_ext autoreload\n",
    "%autoreload 2\n",
    "\n",
    "import os; os.chdir('/Users/Play/Code/AI/master-thesis/src')"
   ]
  },
  {
   "cell_type": "code",
   "execution_count": 10,
   "metadata": {},
   "outputs": [],
   "source": [
    "\n",
    "\n",
    "\n",
    "import numpy as np\n",
    "import skvideo.io\n",
    "\n",
    "import pipeline.transforms as pit\n",
    "import pipeline.smth.dataset as smth\n",
    "import constants as ct\n",
    "import options.pipe_options as opts\n"
   ]
  },
  {
   "cell_type": "code",
   "execution_count": 11,
   "metadata": {},
   "outputs": [
    {
     "data": {
      "text/plain": [
       "1263"
      ]
     },
     "execution_count": 11,
     "metadata": {},
     "output_type": "execute_result"
    }
   ],
   "source": [
    "\n",
    "base_transform = pit.VideoCompose([\n",
    "        pit.RandomCrop(224),\n",
    "        pit.ColorJitter(brightness=0.05, contrast=0.05, saturation=0.05, hue=0.05),\n",
    "        pit.ToVolumeArray(3, False),\n",
    "        pit.ArrayNormalize(255),\n",
    "        pit.ArrayStandardize(ct.IMAGE_NET_MEANS, ct.IMAGE_NET_STDS),\n",
    "    ])\n",
    "do = opts.DataOptions(ct.SMTH_META_MERGED, 1.0, 'train', base_transform)\n",
    "so = opts.SamplingOptions(4, 1)\n",
    "dataset = smth.SmthDataset(do, so)\n",
    "len(dataset.meta)\n"
   ]
  },
  {
   "cell_type": "code",
   "execution_count": 25,
   "metadata": {},
   "outputs": [],
   "source": [
    "\n",
    "base_transform = pit.VideoCompose([\n",
    "        pit.RandomCrop(224),\n",
    "        pit.ColorJitter(brightness=0.10, contrast=0.10, saturation=0.10, hue=0.10),\n",
    "        pit.ToVolumeArray(3, False),\n",
    "        pit.ArrayNormalize(255),\n",
    "        pit.ArrayStandardize(ct.IMAGE_NET_MEANS, ct.IMAGE_NET_STDS)\n",
    "    ])\n",
    "do = opts.DataOptions(ct.SMTH_META_MERGED, 1.0, 'train', base_transform)\n",
    "so = opts.SamplingOptions(16, 1)\n",
    "dataset = smth.SmthDataset(do, so)\n"
   ]
  },
  {
   "cell_type": "code",
   "execution_count": null,
   "metadata": {
    "collapsed": false,
    "jupyter": {
     "outputs_hidden": false
    },
    "pycharm": {
     "name": "#%%\n"
    }
   },
   "outputs": [],
   "source": [
    "\n",
    "dataset.presenting = False\n",
    "for i in range(10):\n",
    "    x, y = dataset[0]\n",
    "    x = x * np.array(ct.IMAGE_NET_STDS, dtype=np.float32).reshape(1,1,1,3) + np.array(ct.IMAGE_NET_MEANS, dtype=np.float32).reshape(1,1,1,3)\n",
    "    x = x * 255\n",
    "    skvideo.io.vwrite(f'{i}.mp4', x, inputdict={\n",
    "        '-framerate': '12'\n",
    "    })"
   ]
  },
  {
   "cell_type": "code",
   "execution_count": 3,
   "metadata": {},
   "outputs": [],
   "source": [
    "\n",
    "import pandas as pd\n",
    "import constants as ct\n",
    "import helpers as hp"
   ]
  },
  {
   "cell_type": "code",
   "execution_count": 7,
   "metadata": {},
   "outputs": [],
   "source": [
    "\n",
    "df = hp.read_meta(ct.HMDB_META_TRAIN_1)\n"
   ]
  },
  {
   "cell_type": "code",
   "execution_count": 8,
   "metadata": {},
   "outputs": [
    {
     "data": {
      "text/html": [
       "<div>\n",
       "<style scoped>\n",
       "    .dataframe tbody tr th:only-of-type {\n",
       "        vertical-align: middle;\n",
       "    }\n",
       "\n",
       "    .dataframe tbody tr th {\n",
       "        vertical-align: top;\n",
       "    }\n",
       "\n",
       "    .dataframe thead th {\n",
       "        text-align: right;\n",
       "    }\n",
       "</style>\n",
       "<table border=\"1\" class=\"dataframe\">\n",
       "  <thead>\n",
       "    <tr style=\"text-align: right;\">\n",
       "      <th></th>\n",
       "      <th>framerate</th>\n",
       "      <th>height</th>\n",
       "      <th>id</th>\n",
       "      <th>image_path</th>\n",
       "      <th>label</th>\n",
       "      <th>length</th>\n",
       "      <th>lid</th>\n",
       "      <th>video_path</th>\n",
       "      <th>width</th>\n",
       "    </tr>\n",
       "  </thead>\n",
       "  <tbody>\n",
       "    <tr>\n",
       "      <th>#122_Cleaning_Up_The_Beach_In_Chiba__Japan_pick_f_nm_np1_fr_bad_1.avi</th>\n",
       "      <td>30</td>\n",
       "      <td>240</td>\n",
       "      <td>#122_Cleaning_Up_The_Beach_In_Chiba__Japan_pic...</td>\n",
       "      <td>jpeg/pick/#122_Cleaning_Up_The_Beach_In_Chiba_...</td>\n",
       "      <td>pick</td>\n",
       "      <td>226</td>\n",
       "      <td>24</td>\n",
       "      <td>avi/pick/#122_Cleaning_Up_The_Beach_In_Chiba__...</td>\n",
       "      <td>320</td>\n",
       "    </tr>\n",
       "    <tr>\n",
       "      <th>#122_Cleaning_Up_The_Beach_In_Chiba__Japan_pick_f_nm_np1_le_bad_2.avi</th>\n",
       "      <td>30</td>\n",
       "      <td>240</td>\n",
       "      <td>#122_Cleaning_Up_The_Beach_In_Chiba__Japan_pic...</td>\n",
       "      <td>jpeg/pick/#122_Cleaning_Up_The_Beach_In_Chiba_...</td>\n",
       "      <td>pick</td>\n",
       "      <td>118</td>\n",
       "      <td>24</td>\n",
       "      <td>avi/pick/#122_Cleaning_Up_The_Beach_In_Chiba__...</td>\n",
       "      <td>320</td>\n",
       "    </tr>\n",
       "    <tr>\n",
       "      <th>#122_Cleaning_Up_The_Beach_In_Chiba__Japan_pick_f_nm_np1_ri_bad_0.avi</th>\n",
       "      <td>30</td>\n",
       "      <td>240</td>\n",
       "      <td>#122_Cleaning_Up_The_Beach_In_Chiba__Japan_pic...</td>\n",
       "      <td>jpeg/pick/#122_Cleaning_Up_The_Beach_In_Chiba_...</td>\n",
       "      <td>pick</td>\n",
       "      <td>70</td>\n",
       "      <td>24</td>\n",
       "      <td>avi/pick/#122_Cleaning_Up_The_Beach_In_Chiba__...</td>\n",
       "      <td>320</td>\n",
       "    </tr>\n",
       "    <tr>\n",
       "      <th>#20_Rhythm_clap_u_nm_np1_fr_goo_0.avi</th>\n",
       "      <td>30</td>\n",
       "      <td>240</td>\n",
       "      <td>#20_Rhythm_clap_u_nm_np1_fr_goo_0.avi</td>\n",
       "      <td>jpeg/clap/#20_Rhythm_clap_u_nm_np1_fr_goo_0</td>\n",
       "      <td>clap</td>\n",
       "      <td>79</td>\n",
       "      <td>4</td>\n",
       "      <td>avi/clap/#20_Rhythm_clap_u_nm_np1_fr_goo_0.avi</td>\n",
       "      <td>320</td>\n",
       "    </tr>\n",
       "    <tr>\n",
       "      <th>#20_Rhythm_clap_u_nm_np1_fr_goo_1.avi</th>\n",
       "      <td>30</td>\n",
       "      <td>240</td>\n",
       "      <td>#20_Rhythm_clap_u_nm_np1_fr_goo_1.avi</td>\n",
       "      <td>jpeg/clap/#20_Rhythm_clap_u_nm_np1_fr_goo_1</td>\n",
       "      <td>clap</td>\n",
       "      <td>79</td>\n",
       "      <td>4</td>\n",
       "      <td>avi/clap/#20_Rhythm_clap_u_nm_np1_fr_goo_1.avi</td>\n",
       "      <td>320</td>\n",
       "    </tr>\n",
       "  </tbody>\n",
       "</table>\n",
       "</div>"
      ],
      "text/plain": [
       "                                                    framerate  height  \\\n",
       "#122_Cleaning_Up_The_Beach_In_Chiba__Japan_pick...         30     240   \n",
       "#122_Cleaning_Up_The_Beach_In_Chiba__Japan_pick...         30     240   \n",
       "#122_Cleaning_Up_The_Beach_In_Chiba__Japan_pick...         30     240   \n",
       "#20_Rhythm_clap_u_nm_np1_fr_goo_0.avi                      30     240   \n",
       "#20_Rhythm_clap_u_nm_np1_fr_goo_1.avi                      30     240   \n",
       "\n",
       "                                                                                                   id  \\\n",
       "#122_Cleaning_Up_The_Beach_In_Chiba__Japan_pick...  #122_Cleaning_Up_The_Beach_In_Chiba__Japan_pic...   \n",
       "#122_Cleaning_Up_The_Beach_In_Chiba__Japan_pick...  #122_Cleaning_Up_The_Beach_In_Chiba__Japan_pic...   \n",
       "#122_Cleaning_Up_The_Beach_In_Chiba__Japan_pick...  #122_Cleaning_Up_The_Beach_In_Chiba__Japan_pic...   \n",
       "#20_Rhythm_clap_u_nm_np1_fr_goo_0.avi                           #20_Rhythm_clap_u_nm_np1_fr_goo_0.avi   \n",
       "#20_Rhythm_clap_u_nm_np1_fr_goo_1.avi                           #20_Rhythm_clap_u_nm_np1_fr_goo_1.avi   \n",
       "\n",
       "                                                                                           image_path  \\\n",
       "#122_Cleaning_Up_The_Beach_In_Chiba__Japan_pick...  jpeg/pick/#122_Cleaning_Up_The_Beach_In_Chiba_...   \n",
       "#122_Cleaning_Up_The_Beach_In_Chiba__Japan_pick...  jpeg/pick/#122_Cleaning_Up_The_Beach_In_Chiba_...   \n",
       "#122_Cleaning_Up_The_Beach_In_Chiba__Japan_pick...  jpeg/pick/#122_Cleaning_Up_The_Beach_In_Chiba_...   \n",
       "#20_Rhythm_clap_u_nm_np1_fr_goo_0.avi                     jpeg/clap/#20_Rhythm_clap_u_nm_np1_fr_goo_0   \n",
       "#20_Rhythm_clap_u_nm_np1_fr_goo_1.avi                     jpeg/clap/#20_Rhythm_clap_u_nm_np1_fr_goo_1   \n",
       "\n",
       "                                                   label  length  lid  \\\n",
       "#122_Cleaning_Up_The_Beach_In_Chiba__Japan_pick...  pick     226   24   \n",
       "#122_Cleaning_Up_The_Beach_In_Chiba__Japan_pick...  pick     118   24   \n",
       "#122_Cleaning_Up_The_Beach_In_Chiba__Japan_pick...  pick      70   24   \n",
       "#20_Rhythm_clap_u_nm_np1_fr_goo_0.avi               clap      79    4   \n",
       "#20_Rhythm_clap_u_nm_np1_fr_goo_1.avi               clap      79    4   \n",
       "\n",
       "                                                                                           video_path  \\\n",
       "#122_Cleaning_Up_The_Beach_In_Chiba__Japan_pick...  avi/pick/#122_Cleaning_Up_The_Beach_In_Chiba__...   \n",
       "#122_Cleaning_Up_The_Beach_In_Chiba__Japan_pick...  avi/pick/#122_Cleaning_Up_The_Beach_In_Chiba__...   \n",
       "#122_Cleaning_Up_The_Beach_In_Chiba__Japan_pick...  avi/pick/#122_Cleaning_Up_The_Beach_In_Chiba__...   \n",
       "#20_Rhythm_clap_u_nm_np1_fr_goo_0.avi                  avi/clap/#20_Rhythm_clap_u_nm_np1_fr_goo_0.avi   \n",
       "#20_Rhythm_clap_u_nm_np1_fr_goo_1.avi                  avi/clap/#20_Rhythm_clap_u_nm_np1_fr_goo_1.avi   \n",
       "\n",
       "                                                    width  \n",
       "#122_Cleaning_Up_The_Beach_In_Chiba__Japan_pick...    320  \n",
       "#122_Cleaning_Up_The_Beach_In_Chiba__Japan_pick...    320  \n",
       "#122_Cleaning_Up_The_Beach_In_Chiba__Japan_pick...    320  \n",
       "#20_Rhythm_clap_u_nm_np1_fr_goo_0.avi                 320  \n",
       "#20_Rhythm_clap_u_nm_np1_fr_goo_1.avi                 320  "
      ]
     },
     "execution_count": 8,
     "metadata": {},
     "output_type": "execute_result"
    }
   ],
   "source": [
    "df.head()"
   ]
  },
  {
   "cell_type": "code",
   "execution_count": null,
   "metadata": {},
   "outputs": [],
   "source": []
  }
 ],
 "metadata": {
  "kernelspec": {
   "display_name": "Python 3",
   "language": "python",
   "name": "python3"
  },
  "language_info": {
   "codemirror_mode": {
    "name": "ipython",
    "version": 3
   },
   "file_extension": ".py",
   "mimetype": "text/x-python",
   "name": "python",
   "nbconvert_exporter": "python",
   "pygments_lexer": "ipython3",
   "version": "3.7.5"
  },
  "pycharm": {
   "stem_cell": {
    "cell_type": "raw",
    "metadata": {
     "collapsed": false
    },
    "source": []
   }
  },
  "toc": {
   "base_numbering": 1,
   "nav_menu": {},
   "number_sections": true,
   "sideBar": true,
   "skip_h1_title": false,
   "title_cell": "Table of Contents",
   "title_sidebar": "Contents",
   "toc_cell": false,
   "toc_position": {},
   "toc_section_display": true,
   "toc_window_display": false
  }
 },
 "nbformat": 4,
 "nbformat_minor": 4
}
