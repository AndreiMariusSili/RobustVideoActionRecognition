{
 "cells": [
  {
   "cell_type": "code",
   "execution_count": null,
   "outputs": [],
   "source": [
    "\n",
    "%load_ext autoreload\n",
    "%autoreload 2\n"
   ],
   "metadata": {
    "collapsed": false,
    "pycharm": {
     "name": "#%%\n"
    }
   }
  },
  {
   "cell_type": "code",
   "execution_count": null,
   "outputs": [],
   "source": [
    "import torchvision\n",
    "\n",
    "import constants as ct\n",
    "from models.i3d import I3D\n",
    "from models.ae_i3d import AEI3D\n",
    "from models.vae_i3d import VAEI3D\n",
    "from models.tarn import TimeAlignedResNet\n",
    "from models.helpers import count_parameters\n"
   ],
   "metadata": {
    "collapsed": false,
    "pycharm": {
     "name": "#%%\n"
    }
   }
  },
  {
   "cell_type": "code",
   "execution_count": null,
   "metadata": {
    "collapsed": true
   },
   "outputs": [],
   "source": [
    "\n",
    "i3d = I3D(ct.SMTH_NUM_CLASSES, 0.0)\n",
    "tarn = TimeAlignedResNet(4, 0.0, ct.SMTH_NUM_CLASSES, (16, 32, 64, 128, 256))\n",
    "aei3d = AEI3D(1024, 0.0, ct.SMTH_NUM_CLASSES)\n",
    "vaei3d = VAEI3D(1024, 0.0, ct.SMTH_NUM_CLASSES, 'soft')\n",
    "le_net = torchvision.models.GoogLeNet(num_classes=ct.SMTH_NUM_CLASSES, aux_logits=False)\n",
    "inception = torchvision.models.inception_v3(num_classes=ct.SMTH_NUM_CLASSES)\n",
    "res_net = torchvision.models.resnet18(num_classes=ct.SMTH_NUM_CLASSES)\n",
    "print(f'LeNet:\\t\\t{count_parameters(le_net)}')\n",
    "print(f'Inception:\\t{count_parameters(inception)}')\n",
    "print(f'ResNet18:\\t{count_parameters(res_net)}')\n",
    "print(f'I3D:\\t\\t{count_parameters(i3d)}')\n",
    "print(f'TARN:\\t\\t{count_parameters(tarn)}')\n",
    "print(f'AEI3D:\\t\\t{count_parameters(aei3d)}')\n",
    "print(f'VAEI3D:\\t\\t{count_parameters(vaei3d)}')\n"
   ]
  }
 ],
 "metadata": {
  "language_info": {
   "codemirror_mode": {
    "name": "ipython",
    "version": 2
   },
   "file_extension": ".py",
   "mimetype": "text/x-python",
   "name": "python",
   "nbconvert_exporter": "python",
   "pygments_lexer": "ipython2",
   "version": "2.7.6"
  },
  "kernelspec": {
   "name": "python3",
   "language": "python",
   "display_name": "Python 3"
  },
  "pycharm": {
   "stem_cell": {
    "cell_type": "raw",
    "source": [],
    "metadata": {
     "collapsed": false
    }
   }
  }
 },
 "nbformat": 4,
 "nbformat_minor": 0
}