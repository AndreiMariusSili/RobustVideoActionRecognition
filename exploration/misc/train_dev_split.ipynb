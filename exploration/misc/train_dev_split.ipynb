{
 "cells": [
  {
   "cell_type": "code",
   "execution_count": 2,
   "metadata": {
    "collapsed": true,
    "pycharm": {
     "is_executing": false
    }
   },
   "outputs": [],
   "source": [
    "\n",
    "%load_ext autoreload\n",
    "%autoreload 2\n"
   ]
  },
  {
   "cell_type": "code",
   "execution_count": 3,
   "outputs": [],
   "source": [
    "\n",
    "import os; os.chdir(f'{os.environ[\"MT_ROOT\"]}/src/')#%%\n",
    "import pandas as pd\n",
    "import constants as ct\n",
    "import helpers as hp\n",
    "import sklearn.model_selection as skms"
   ],
   "metadata": {
    "collapsed": false,
    "pycharm": {
     "name": "#%%\n",
     "is_executing": false
    }
   }
  },
  {
   "cell_type": "code",
   "execution_count": 73,
   "outputs": [
    {
     "name": "stdout",
     "text": [
      "<class 'pandas.core.frame.DataFrame'>\nIndex: 37245 entries, 10 to 99999\nData columns (total 11 columns):\nframerate       37245 non-null int64\nheight          37245 non-null int64\nid              37245 non-null object\njpeg_path       37245 non-null object\nlabel           37245 non-null object\nlength          37245 non-null int64\nplaceholders    37245 non-null object\ntemplate        37245 non-null object\ntemplate_id     37245 non-null int64\nwebm_path       37245 non-null object\nwidth           37245 non-null int64\ndtypes: int64(5), object(6)\nmemory usage: 3.4+ MB\n"
     ],
     "output_type": "stream"
    }
   ],
   "source": [
    "\n",
    "df = hp.read_smth_meta(ct.SMTH_META_TRAIN).sort_index()\n",
    "df.info()\n"
   ],
   "metadata": {
    "collapsed": false,
    "pycharm": {
     "name": "#%%\n",
     "is_executing": false
    }
   }
  },
  {
   "cell_type": "code",
   "execution_count": 74,
   "outputs": [],
   "source": [
    "\n",
    "train, dev = skms.train_test_split(df, random_state=0, stratify=df.template_id, test_size=0.20)\n"
   ],
   "metadata": {
    "collapsed": false,
    "pycharm": {
     "name": "#%%\n",
     "is_executing": false
    }
   }
  },
  {
   "cell_type": "code",
   "execution_count": 75,
   "outputs": [
    {
     "name": "stdout",
     "text": [
      "<class 'pandas.core.frame.DataFrame'>\nIndex: 29796 entries, 175841 to 129381\nData columns (total 11 columns):\nframerate       29796 non-null int64\nheight          29796 non-null int64\nid              29796 non-null object\njpeg_path       29796 non-null object\nlabel           29796 non-null object\nlength          29796 non-null int64\nplaceholders    29796 non-null object\ntemplate        29796 non-null object\ntemplate_id     29796 non-null int64\nwebm_path       29796 non-null object\nwidth           29796 non-null int64\ndtypes: int64(5), object(6)\nmemory usage: 2.7+ MB\n"
     ],
     "output_type": "stream"
    }
   ],
   "source": [
    "\n",
    "train.info()\n"
   ],
   "metadata": {
    "collapsed": false,
    "pycharm": {
     "name": "#%%\n",
     "is_executing": false
    }
   }
  },
  {
   "cell_type": "code",
   "execution_count": 76,
   "outputs": [
    {
     "name": "stdout",
     "text": [
      "<class 'pandas.core.frame.DataFrame'>\nIndex: 7449 entries, 188387 to 173507\nData columns (total 11 columns):\nframerate       7449 non-null int64\nheight          7449 non-null int64\nid              7449 non-null object\njpeg_path       7449 non-null object\nlabel           7449 non-null object\nlength          7449 non-null int64\nplaceholders    7449 non-null object\ntemplate        7449 non-null object\ntemplate_id     7449 non-null int64\nwebm_path       7449 non-null object\nwidth           7449 non-null int64\ndtypes: int64(5), object(6)\nmemory usage: 698.3+ KB\n"
     ],
     "output_type": "stream"
    }
   ],
   "source": [
    "\n",
    "dev.info()\n"
   ],
   "metadata": {
    "collapsed": false,
    "pycharm": {
     "name": "#%%\n",
     "is_executing": false
    }
   }
  },
  {
   "cell_type": "code",
   "execution_count": 77,
   "outputs": [
    {
     "data": {
      "text/plain": "Index(['10', '100002', '100003', '100008', '100009', '100019', '100023',\n       '10005', '100058', '10006',\n       ...\n       '99957', '99971', '99979', '99980', '99982', '99983', '99987', '99991',\n       '99995', '99999'],\n      dtype='object', name='id', length=37245)"
     },
     "metadata": {},
     "output_type": "execute_result",
     "execution_count": 77
    }
   ],
   "source": [
    "\n",
    "df2 = pd.concat([train, dev], verify_integrity=True, sort=True)\n",
    "df.index.sort_values()\n"
   ],
   "metadata": {
    "collapsed": false,
    "pycharm": {
     "name": "#%%\n",
     "is_executing": false
    }
   }
  },
  {
   "cell_type": "code",
   "execution_count": 78,
   "outputs": [
    {
     "data": {
      "text/plain": "Index(['10', '100002', '100003', '100008', '100009', '100019', '100023',\n       '10005', '100058', '10006',\n       ...\n       '99957', '99971', '99979', '99980', '99982', '99983', '99987', '99991',\n       '99995', '99999'],\n      dtype='object', name='id', length=37245)"
     },
     "metadata": {},
     "output_type": "execute_result",
     "execution_count": 78
    }
   ],
   "source": [
    "\n",
    "df2.index.sort_values()\n"
   ],
   "metadata": {
    "collapsed": false,
    "pycharm": {
     "name": "#%%\n",
     "is_executing": false
    }
   }
  },
  {
   "cell_type": "code",
   "execution_count": 79,
   "outputs": [
    {
     "data": {
      "text/plain": "True"
     },
     "metadata": {},
     "output_type": "execute_result",
     "execution_count": 79
    }
   ],
   "source": [
    "\n",
    "df.index.sort_values().equals(df2.index.sort_values())\n"
   ],
   "metadata": {
    "collapsed": false,
    "pycharm": {
     "name": "#%%\n",
     "is_executing": false
    }
   }
  },
  {
   "cell_type": "code",
   "execution_count": 80,
   "outputs": [
    {
     "data": {
      "text/plain": "True"
     },
     "metadata": {},
     "output_type": "execute_result",
     "execution_count": 80
    }
   ],
   "source": [
    "\n",
    "df.sort_index().equals(df2.sort_index())\n"
   ],
   "metadata": {
    "collapsed": false,
    "pycharm": {
     "name": "#%%\n",
     "is_executing": false
    }
   }
  },
  {
   "cell_type": "code",
   "execution_count": 83,
   "outputs": [
    {
     "name": "stdout",
     "text": [
      "0 0.0552 0.0553\n1 0.0195 0.0195\n2 0.0323 0.0324\n3 0.0187 0.0187\n4 0.0545 0.0545\n5 0.0323 0.0324\n6 0.0605 0.0605\n7 0.0246 0.0246\n8 0.0111 0.0111\n9 0.0045 0.0046\n10 0.0336 0.0337\n11 0.0287 0.0287\n12 0.0225 0.0224\n13 0.0127 0.0126\n14 0.0651 0.0651\n15 0.0732 0.0732\n16 0.0253 0.0254\n17 0.0208 0.0208\n18 0.0384 0.0384\n19 0.0428 0.0428\n20 0.0449 0.045\n21 0.0428 0.0427\n22 0.0079 0.0078\n23 0.0053 0.0054\n24 0.0295 0.0295\n25 0.0373 0.0373\n26 0.0251 0.0251\n27 0.0263 0.0263\n28 0.0588 0.0587\n29 0.0456 0.0456\n"
     ],
     "output_type": "stream"
    }
   ],
   "source": [
    "\n",
    "train_counts = []\n",
    "for _id in train.template_id.sort_values().unique():\n",
    "    train_counts.append((_id, len(train[train.template_id == _id])))\n",
    "dev_counts = []\n",
    "for _id in dev.template_id.sort_values().unique():\n",
    "    dev_counts.append((_id, len(dev[dev.template_id == _id])))\n",
    "for i in range(len(train_counts)):\n",
    "    print(train_counts[i][0], round(train_counts[i][1] / len(train), 4), round(dev_counts[i][1] / len(dev), 4))\n"
   ],
   "metadata": {
    "collapsed": false,
    "pycharm": {
     "name": "#%%\n",
     "is_executing": false
    }
   }
  },
  {
   "cell_type": "code",
   "execution_count": 64,
   "outputs": [
    {
     "data": {
      "text/plain": "array([ 0,  1,  2,  3,  4,  5,  6,  7,  8,  9, 10, 11, 12, 13, 14, 15, 16,\n       17, 18, 19, 20, 21, 22, 23, 24, 25, 26, 27, 28, 29])"
     },
     "metadata": {},
     "output_type": "execute_result",
     "execution_count": 64
    }
   ],
   "source": [
    "\n",
    "df.template_id.sort_values().unique()\n"
   ],
   "metadata": {
    "collapsed": false,
    "pycharm": {
     "name": "#%%\n",
     "is_executing": false
    }
   }
  },
  {
   "cell_type": "code",
   "execution_count": 4,
   "outputs": [],
   "source": [
    "\n",
    "train = hp.read_smth_meta(ct.SMTH_META_TRAIN)\n",
    "dev = hp.read_smth_meta(ct.SMTH_META_DEV)\n"
   ],
   "metadata": {
    "collapsed": false,
    "pycharm": {
     "name": "#%%\n",
     "is_executing": false
    }
   }
  },
  {
   "cell_type": "code",
   "execution_count": 8,
   "outputs": [
    {
     "data": {
      "text/plain": "0"
     },
     "metadata": {},
     "output_type": "execute_result",
     "execution_count": 8
    }
   ],
   "source": [
    "\n",
    "train.index.sort_values().isin(dev.index.sort_values()).sum()\n"
   ],
   "metadata": {
    "collapsed": false,
    "pycharm": {
     "name": "#%%\n",
     "is_executing": false
    }
   }
  },
  {
   "cell_type": "code",
   "execution_count": 6,
   "outputs": [
    {
     "data": {
      "text/plain": "Index(['100008', '10005', '100167', '100178', '100183', '100184', '100233',\n       '100248', '100261', '1003',\n       ...\n       '99757', '9979', '99792', '99819', '99831', '99892', '99904', '9993',\n       '9994', '99999'],\n      dtype='object', name='id', length=7449)"
     },
     "metadata": {},
     "output_type": "execute_result",
     "execution_count": 6
    }
   ],
   "source": [
    "\n",
    "dev.index.sort_values()\n"
   ],
   "metadata": {
    "collapsed": false,
    "pycharm": {
     "name": "#%%\n",
     "is_executing": false
    }
   }
  },
  {
   "cell_type": "code",
   "execution_count": null,
   "outputs": [],
   "source": [],
   "metadata": {
    "collapsed": false,
    "pycharm": {
     "name": "#%%\n"
    }
   }
  }
 ],
 "metadata": {
  "language_info": {
   "codemirror_mode": {
    "name": "ipython",
    "version": 2
   },
   "file_extension": ".py",
   "mimetype": "text/x-python",
   "name": "python",
   "nbconvert_exporter": "python",
   "pygments_lexer": "ipython2",
   "version": "2.7.6"
  },
  "kernelspec": {
   "name": "python3",
   "language": "python",
   "display_name": "Python 3"
  },
  "pycharm": {
   "stem_cell": {
    "cell_type": "raw",
    "source": [],
    "metadata": {
     "collapsed": false
    }
   }
  }
 },
 "nbformat": 4,
 "nbformat_minor": 0
}