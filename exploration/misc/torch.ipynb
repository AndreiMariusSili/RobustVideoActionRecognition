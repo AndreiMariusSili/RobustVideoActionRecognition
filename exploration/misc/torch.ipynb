{
 "cells": [
  {
   "cell_type": "code",
   "execution_count": 1,
   "outputs": [],
   "source": [
    "\n",
    "%load_ext autoreload\n",
    "%autoreload 2\n"
   ],
   "metadata": {
    "collapsed": false,
    "pycharm": {
     "name": "#%%\n",
     "is_executing": false
    }
   }
  },
  {
   "cell_type": "code",
   "execution_count": 2,
   "metadata": {
    "pycharm": {
     "is_executing": false
    }
   },
   "outputs": [],
   "source": [
    "import os; os.chdir(f'{os.environ[\"MT_ROOT\"]}/src/')\n",
    "import torch as th\n",
    "from torch import nn\n"
   ]
  },
  {
   "cell_type": "code",
   "execution_count": 3,
   "metadata": {
    "pycharm": {
     "is_executing": false
    }
   },
   "outputs": [],
   "source": [
    "class A:\n",
    "    x = None\n",
    "    \n",
    "    def __init__(self):\n",
    "        self.x = nn.ConstantPad3d(1, 0)\n",
    "class B(nn.Module):\n",
    "    x = None\n",
    "    def __init__(self):\n",
    "        super(B, self).__init__()\n",
    "        self.x = nn.ConstantPad3d(1, 0)"
   ]
  },
  {
   "cell_type": "code",
   "execution_count": 4,
   "metadata": {
    "pycharm": {
     "is_executing": false
    }
   },
   "outputs": [
    {
     "data": {
      "text/plain": "(ConstantPad3d(padding=(1, 1, 1, 1, 1, 1), value=0), None)"
     },
     "metadata": {},
     "output_type": "execute_result",
     "execution_count": 4
    }
   ],
   "source": [
    "a = A()\n",
    "b = B()\n",
    "a.x, b.x"
   ]
  },
  {
   "cell_type": "code",
   "execution_count": 5,
   "metadata": {
    "pycharm": {
     "is_executing": false
    }
   },
   "outputs": [
    {
     "data": {
      "text/plain": "(torch.Size([2, 10]),\n torch.Size([2, 10]),\n tensor(15),\n tensor([[0.0933, 0.1081, 0.1573, 0.0366, 0.0571, 0.1469, 0.0900, 0.1131, 0.1029,\n          0.0948],\n         [0.1145, 0.0731, 0.1331, 0.1205, 0.0755, 0.1574, 0.1127, 0.0948, 0.0589,\n          0.0597]]),\n tensor(15),\n tensor([[0.1021, 0.0978, 0.1601, 0.0480, 0.0556, 0.1546, 0.0832, 0.1032, 0.0854,\n          0.1099],\n         [0.0836, 0.0811, 0.1441, 0.1451, 0.0771, 0.1838, 0.0962, 0.0921, 0.0467,\n          0.0502]]))"
     },
     "metadata": {},
     "output_type": "execute_result",
     "execution_count": 5
    }
   ],
   "source": [
    "s = nn.Softmax(dim=-1)\n",
    "x = th.randn((2, 4, 10))\n",
    "a = s(x).mean(dim=1)\n",
    "b = s(x.mean(dim=1))\n",
    "a.shape, b.shape, th.argmax(a), a, th.argmax(b), b\n"
   ]
  },
  {
   "cell_type": "code",
   "execution_count": 67,
   "outputs": [
    {
     "data": {
      "text/plain": "[tensor([[[ 0,  1,  2,  3,  4],\n          [ 5,  6,  7,  8,  9],\n          [10, 11, 12, 13, 14],\n          [15, 16, 17, 18, 19]],\n \n         [[20, 21, 22, 23, 24],\n          [25, 26, 27, 28, 29],\n          [30, 31, 32, 33, 34],\n          [35, 36, 37, 38, 39]],\n \n         [[40, 41, 42, 43, 44],\n          [45, 46, 47, 48, 49],\n          [50, 51, 52, 53, 54],\n          [55, 56, 57, 58, 59]]]), tensor([[[ 60,  61,  62,  63,  64],\n          [ 65,  66,  67,  68,  69],\n          [ 70,  71,  72,  73,  74],\n          [ 75,  76,  77,  78,  79]],\n \n         [[ 80,  81,  82,  83,  84],\n          [ 85,  86,  87,  88,  89],\n          [ 90,  91,  92,  93,  94],\n          [ 95,  96,  97,  98,  99]],\n \n         [[100, 101, 102, 103, 104],\n          [105, 106, 107, 108, 109],\n          [110, 111, 112, 113, 114],\n          [115, 116, 117, 118, 119]]])]"
     },
     "metadata": {},
     "output_type": "execute_result",
     "execution_count": 67
    }
   ],
   "source": [
    "\n",
    "time_steps = 2\n",
    "batch_size = 3\n",
    "samples = 4\n",
    "embed_size = 5\n",
    "z = [\n",
    "    th.tensor(range(0, 60)).reshape(batch_size, samples, embed_size),\n",
    "    th.tensor(range(60, 120)).reshape(batch_size, samples, embed_size),\n",
    "]\n",
    "z\n"
   ],
   "metadata": {
    "collapsed": false,
    "pycharm": {
     "name": "#%%\n",
     "is_executing": false
    }
   }
  },
  {
   "cell_type": "code",
   "execution_count": 68,
   "outputs": [
    {
     "data": {
      "text/plain": "(tensor([[[  0,   1,   2,   3,   4],\n          [  5,   6,   7,   8,   9],\n          [ 10,  11,  12,  13,  14],\n          [ 15,  16,  17,  18,  19]],\n \n         [[ 20,  21,  22,  23,  24],\n          [ 25,  26,  27,  28,  29],\n          [ 30,  31,  32,  33,  34],\n          [ 35,  36,  37,  38,  39]],\n \n         [[ 40,  41,  42,  43,  44],\n          [ 45,  46,  47,  48,  49],\n          [ 50,  51,  52,  53,  54],\n          [ 55,  56,  57,  58,  59]],\n \n         [[ 60,  61,  62,  63,  64],\n          [ 65,  66,  67,  68,  69],\n          [ 70,  71,  72,  73,  74],\n          [ 75,  76,  77,  78,  79]],\n \n         [[ 80,  81,  82,  83,  84],\n          [ 85,  86,  87,  88,  89],\n          [ 90,  91,  92,  93,  94],\n          [ 95,  96,  97,  98,  99]],\n \n         [[100, 101, 102, 103, 104],\n          [105, 106, 107, 108, 109],\n          [110, 111, 112, 113, 114],\n          [115, 116, 117, 118, 119]]]), torch.Size([6, 4, 5]))"
     },
     "metadata": {},
     "output_type": "execute_result",
     "execution_count": 68
    }
   ],
   "source": [
    "\n",
    "z_cat = th.cat(z, dim=0)\n",
    "z_cat, z_cat.shape\n"
   ],
   "metadata": {
    "collapsed": false,
    "pycharm": {
     "name": "#%%\n",
     "is_executing": false
    }
   }
  },
  {
   "cell_type": "code",
   "execution_count": 69,
   "outputs": [
    {
     "data": {
      "text/plain": "(tensor([[[[  0,   1,   2,   3,   4],\n           [  5,   6,   7,   8,   9],\n           [ 10,  11,  12,  13,  14],\n           [ 15,  16,  17,  18,  19]],\n \n          [[ 20,  21,  22,  23,  24],\n           [ 25,  26,  27,  28,  29],\n           [ 30,  31,  32,  33,  34],\n           [ 35,  36,  37,  38,  39]],\n \n          [[ 40,  41,  42,  43,  44],\n           [ 45,  46,  47,  48,  49],\n           [ 50,  51,  52,  53,  54],\n           [ 55,  56,  57,  58,  59]]],\n \n \n         [[[ 60,  61,  62,  63,  64],\n           [ 65,  66,  67,  68,  69],\n           [ 70,  71,  72,  73,  74],\n           [ 75,  76,  77,  78,  79]],\n \n          [[ 80,  81,  82,  83,  84],\n           [ 85,  86,  87,  88,  89],\n           [ 90,  91,  92,  93,  94],\n           [ 95,  96,  97,  98,  99]],\n \n          [[100, 101, 102, 103, 104],\n           [105, 106, 107, 108, 109],\n           [110, 111, 112, 113, 114],\n           [115, 116, 117, 118, 119]]]]), torch.Size([2, 3, 4, 5]))"
     },
     "metadata": {},
     "output_type": "execute_result",
     "execution_count": 69
    }
   ],
   "source": [
    "\n",
    "z_cat = z_cat.reshape(time_steps, batch_size, samples, embed_size)\n",
    "z_cat, z_cat.shape\n"
   ],
   "metadata": {
    "collapsed": false,
    "pycharm": {
     "name": "#%%\n",
     "is_executing": false
    }
   }
  },
  {
   "cell_type": "code",
   "execution_count": 70,
   "outputs": [
    {
     "data": {
      "text/plain": "(tensor([[[[  0,   1,   2,   3,   4],\n           [ 60,  61,  62,  63,  64]],\n \n          [[  5,   6,   7,   8,   9],\n           [ 65,  66,  67,  68,  69]],\n \n          [[ 10,  11,  12,  13,  14],\n           [ 70,  71,  72,  73,  74]],\n \n          [[ 15,  16,  17,  18,  19],\n           [ 75,  76,  77,  78,  79]]],\n \n \n         [[[ 20,  21,  22,  23,  24],\n           [ 80,  81,  82,  83,  84]],\n \n          [[ 25,  26,  27,  28,  29],\n           [ 85,  86,  87,  88,  89]],\n \n          [[ 30,  31,  32,  33,  34],\n           [ 90,  91,  92,  93,  94]],\n \n          [[ 35,  36,  37,  38,  39],\n           [ 95,  96,  97,  98,  99]]],\n \n \n         [[[ 40,  41,  42,  43,  44],\n           [100, 101, 102, 103, 104]],\n \n          [[ 45,  46,  47,  48,  49],\n           [105, 106, 107, 108, 109]],\n \n          [[ 50,  51,  52,  53,  54],\n           [110, 111, 112, 113, 114]],\n \n          [[ 55,  56,  57,  58,  59],\n           [115, 116, 117, 118, 119]]]]), torch.Size([3, 4, 2, 5]))"
     },
     "metadata": {},
     "output_type": "execute_result",
     "execution_count": 70
    }
   ],
   "source": [
    "\n",
    "z_cat = z_cat.transpose(0, 1).transpose(1, 2)\n",
    "z_cat, z_cat.shape\n"
   ],
   "metadata": {
    "collapsed": false,
    "pycharm": {
     "name": "#%%\n",
     "is_executing": false
    }
   }
  },
  {
   "cell_type": "code",
   "execution_count": 61,
   "outputs": [
    {
     "data": {
      "text/plain": "(tensor([[  0,   1,   2,   3,   4,  60,  61,  62,  63,  64],\n         [  5,   6,   7,   8,   9,  65,  66,  67,  68,  69],\n         [ 10,  11,  12,  13,  14,  70,  71,  72,  73,  74],\n         [ 15,  16,  17,  18,  19,  75,  76,  77,  78,  79],\n         [ 20,  21,  22,  23,  24,  80,  81,  82,  83,  84],\n         [ 25,  26,  27,  28,  29,  85,  86,  87,  88,  89],\n         [ 30,  31,  32,  33,  34,  90,  91,  92,  93,  94],\n         [ 35,  36,  37,  38,  39,  95,  96,  97,  98,  99],\n         [ 40,  41,  42,  43,  44, 100, 101, 102, 103, 104],\n         [ 45,  46,  47,  48,  49, 105, 106, 107, 108, 109],\n         [ 50,  51,  52,  53,  54, 110, 111, 112, 113, 114],\n         [ 55,  56,  57,  58,  59, 115, 116, 117, 118, 119]]),\n torch.Size([12, 10]))"
     },
     "metadata": {},
     "output_type": "execute_result",
     "execution_count": 61
    }
   ],
   "source": [
    "\n",
    "bs, ns, t, e = z_cat.shape\n",
    "z_cat = z_cat.reshape(bs * ns, t * e)\n",
    "z_cat, z_cat.shape\n"
   ],
   "metadata": {
    "collapsed": false,
    "pycharm": {
     "name": "#%%\n",
     "is_executing": false
    }
   }
  },
  {
   "cell_type": "code",
   "execution_count": 62,
   "outputs": [
    {
     "data": {
      "text/plain": "tensor([[[  0,   1,   2,   3,   4,  60,  61,  62,  63,  64],\n         [  5,   6,   7,   8,   9,  65,  66,  67,  68,  69],\n         [ 10,  11,  12,  13,  14,  70,  71,  72,  73,  74],\n         [ 15,  16,  17,  18,  19,  75,  76,  77,  78,  79]],\n\n        [[ 20,  21,  22,  23,  24,  80,  81,  82,  83,  84],\n         [ 25,  26,  27,  28,  29,  85,  86,  87,  88,  89],\n         [ 30,  31,  32,  33,  34,  90,  91,  92,  93,  94],\n         [ 35,  36,  37,  38,  39,  95,  96,  97,  98,  99]],\n\n        [[ 40,  41,  42,  43,  44, 100, 101, 102, 103, 104],\n         [ 45,  46,  47,  48,  49, 105, 106, 107, 108, 109],\n         [ 50,  51,  52,  53,  54, 110, 111, 112, 113, 114],\n         [ 55,  56,  57,  58,  59, 115, 116, 117, 118, 119]]])"
     },
     "metadata": {},
     "output_type": "execute_result",
     "execution_count": 62
    }
   ],
   "source": [
    "\n",
    "z_cat.reshape(bs, ns, t * e)\n"
   ],
   "metadata": {
    "collapsed": false,
    "pycharm": {
     "name": "#%%\n",
     "is_executing": false
    }
   }
  },
  {
   "cell_type": "code",
   "execution_count": null,
   "outputs": [],
   "source": [
    "\n"
   ],
   "metadata": {
    "collapsed": false,
    "pycharm": {
     "name": "#%%\n"
    }
   }
  }
 ],
 "metadata": {
  "kernelspec": {
   "display_name": "Python 3",
   "language": "python",
   "name": "python3"
  },
  "toc": {
   "base_numbering": 1,
   "nav_menu": {},
   "number_sections": true,
   "sideBar": true,
   "skip_h1_title": false,
   "title_cell": "Table of Contents",
   "title_sidebar": "Contents",
   "toc_cell": false,
   "toc_position": {},
   "toc_section_display": true,
   "toc_window_display": false
  },
  "pycharm": {
   "stem_cell": {
    "cell_type": "raw",
    "source": [],
    "metadata": {
     "collapsed": false
    }
   }
  }
 },
 "nbformat": 4,
 "nbformat_minor": 2
}