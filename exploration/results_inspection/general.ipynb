{
 "cells": [
  {
   "cell_type": "code",
   "execution_count": 1,
   "metadata": {
    "pycharm": {
     "is_executing": false
    }
   },
   "outputs": [],
   "source": [
    "\n",
    "%load_ext autoreload\n",
    "%autoreload 2\n"
   ]
  },
  {
   "cell_type": "code",
   "execution_count": 9,
   "metadata": {
    "pycharm": {
     "is_executing": false
    }
   },
   "outputs": [],
   "source": [
    "\n",
    "import os; os.chdir(f'{os.getenv(\"MT_ROOT\")}/src'); os.getcwd()\n",
    "import pandas as pd\n",
    "import pathlib as pl\n",
    "\n",
    "import constants as ct"
   ]
  },
  {
   "cell_type": "code",
   "execution_count": 10,
   "metadata": {
    "pycharm": {
     "is_executing": false
    }
   },
   "outputs": [],
   "source": [
    "def merge_evaluations(runs_dir: pl.Path) -> pd.DataFrame:\n",
    "    evaluations = list(runs_dir.glob(\"*/evaluation_stats.csv\"))\n",
    "    \n",
    "    dfs = []\n",
    "    for evaluation in evaluations:\n",
    "        with open(evaluation.as_posix()) as file:\n",
    "            dfs.append(pd.read_csv(file, index_col=0)) \n",
    "    \n",
    "    return pd.concat(dfs, axis=0, sort=True)"
   ]
  },
  {
   "cell_type": "code",
   "execution_count": 11,
   "metadata": {
    "pycharm": {
     "is_executing": false
    }
   },
   "outputs": [
    {
     "data": {
      "text/plain": "                        dev_acc@1  dev_acc@5  dev_ce_loss   dev_iou  \\\naetarn_smth_100_mse_ce   0.525839   0.798993     1.741823  0.595134   \ntadn_smth_100            0.541443   0.811577     1.764235  0.604027   \naei3d_smth_100           0.517450   0.800335     1.752381  0.584899   \ni3d_smth_100             0.530872   0.815772     1.725059  0.597483   \ntarn_smth_100            0.546477   0.807047     1.792944  0.613591   \naetarn_smth_100          0.541275   0.815268     1.679117  0.609060   \n\n                        dev_mse_loss  dev_total_loss  model_size  train_acc@1  \\\naetarn_smth_100_mse_ce      0.175238        1.917061  10,532,244     0.663450   \ntadn_smth_100                    NaN             NaN   7,873,214     0.765271   \naei3d_smth_100              0.234165        1.986546  14,530,370     0.690552   \ni3d_smth_100                     NaN             NaN   6,598,718     0.718241   \ntarn_smth_100                    NaN             NaN   6,481,454     0.771019   \naetarn_smth_100             0.169169        1.848286  10,532,244     0.720717   \n\n                        train_acc@5  train_ce_loss  train_iou  train_mse_loss  \\\naetarn_smth_100_mse_ce     0.915380       1.113492   0.726758        0.173017   \ntadn_smth_100              0.953306       0.770314   0.814566             NaN   \naei3d_smth_100             0.919743       1.035708   0.743329        0.226326   \ni3d_smth_100               0.925449       0.945782   0.769760             NaN   \ntarn_smth_100              0.957459       0.749685   0.812594             NaN   \naetarn_smth_100            0.935434       0.936444   0.772865        0.169189   \n\n                        train_total_loss  valid_acc@1  valid_acc@5  \\\naetarn_smth_100_mse_ce          1.286510     0.333266     0.658225   \ntadn_smth_100                        NaN     0.330632     0.661872   \naei3d_smth_100                  1.262034     0.322731     0.661062   \ni3d_smth_100                         NaN     0.336102     0.688412   \ntarn_smth_100                        NaN     0.332455     0.665924   \naetarn_smth_100                 1.105633     0.347245     0.675041   \n\n                        valid_ce_loss  valid_iou  valid_mse_loss  \\\naetarn_smth_100_mse_ce       2.563294   0.403160        0.153336   \ntadn_smth_100                2.803800   0.402350             NaN   \naei3d_smth_100               2.658589   0.392423        0.207422   \ni3d_smth_100                 2.635157   0.409036             NaN   \ntarn_smth_100                2.831554   0.405794             NaN   \naetarn_smth_100              2.594440   0.419571        0.147278   \n\n                        valid_total_loss  \naetarn_smth_100_mse_ce          2.716629  \ntadn_smth_100                        NaN  \naei3d_smth_100                  2.866011  \ni3d_smth_100                         NaN  \ntarn_smth_100                        NaN  \naetarn_smth_100                 2.741719  ",
      "text/html": "<div>\n<style scoped>\n    .dataframe tbody tr th:only-of-type {\n        vertical-align: middle;\n    }\n\n    .dataframe tbody tr th {\n        vertical-align: top;\n    }\n\n    .dataframe thead th {\n        text-align: right;\n    }\n</style>\n<table border=\"1\" class=\"dataframe\">\n  <thead>\n    <tr style=\"text-align: right;\">\n      <th></th>\n      <th>dev_acc@1</th>\n      <th>dev_acc@5</th>\n      <th>dev_ce_loss</th>\n      <th>dev_iou</th>\n      <th>dev_mse_loss</th>\n      <th>dev_total_loss</th>\n      <th>model_size</th>\n      <th>train_acc@1</th>\n      <th>train_acc@5</th>\n      <th>train_ce_loss</th>\n      <th>train_iou</th>\n      <th>train_mse_loss</th>\n      <th>train_total_loss</th>\n      <th>valid_acc@1</th>\n      <th>valid_acc@5</th>\n      <th>valid_ce_loss</th>\n      <th>valid_iou</th>\n      <th>valid_mse_loss</th>\n      <th>valid_total_loss</th>\n    </tr>\n  </thead>\n  <tbody>\n    <tr>\n      <th>aetarn_smth_100_mse_ce</th>\n      <td>0.525839</td>\n      <td>0.798993</td>\n      <td>1.741823</td>\n      <td>0.595134</td>\n      <td>0.175238</td>\n      <td>1.917061</td>\n      <td>10,532,244</td>\n      <td>0.663450</td>\n      <td>0.915380</td>\n      <td>1.113492</td>\n      <td>0.726758</td>\n      <td>0.173017</td>\n      <td>1.286510</td>\n      <td>0.333266</td>\n      <td>0.658225</td>\n      <td>2.563294</td>\n      <td>0.403160</td>\n      <td>0.153336</td>\n      <td>2.716629</td>\n    </tr>\n    <tr>\n      <th>tadn_smth_100</th>\n      <td>0.541443</td>\n      <td>0.811577</td>\n      <td>1.764235</td>\n      <td>0.604027</td>\n      <td>NaN</td>\n      <td>NaN</td>\n      <td>7,873,214</td>\n      <td>0.765271</td>\n      <td>0.953306</td>\n      <td>0.770314</td>\n      <td>0.814566</td>\n      <td>NaN</td>\n      <td>NaN</td>\n      <td>0.330632</td>\n      <td>0.661872</td>\n      <td>2.803800</td>\n      <td>0.402350</td>\n      <td>NaN</td>\n      <td>NaN</td>\n    </tr>\n    <tr>\n      <th>aei3d_smth_100</th>\n      <td>0.517450</td>\n      <td>0.800335</td>\n      <td>1.752381</td>\n      <td>0.584899</td>\n      <td>0.234165</td>\n      <td>1.986546</td>\n      <td>14,530,370</td>\n      <td>0.690552</td>\n      <td>0.919743</td>\n      <td>1.035708</td>\n      <td>0.743329</td>\n      <td>0.226326</td>\n      <td>1.262034</td>\n      <td>0.322731</td>\n      <td>0.661062</td>\n      <td>2.658589</td>\n      <td>0.392423</td>\n      <td>0.207422</td>\n      <td>2.866011</td>\n    </tr>\n    <tr>\n      <th>i3d_smth_100</th>\n      <td>0.530872</td>\n      <td>0.815772</td>\n      <td>1.725059</td>\n      <td>0.597483</td>\n      <td>NaN</td>\n      <td>NaN</td>\n      <td>6,598,718</td>\n      <td>0.718241</td>\n      <td>0.925449</td>\n      <td>0.945782</td>\n      <td>0.769760</td>\n      <td>NaN</td>\n      <td>NaN</td>\n      <td>0.336102</td>\n      <td>0.688412</td>\n      <td>2.635157</td>\n      <td>0.409036</td>\n      <td>NaN</td>\n      <td>NaN</td>\n    </tr>\n    <tr>\n      <th>tarn_smth_100</th>\n      <td>0.546477</td>\n      <td>0.807047</td>\n      <td>1.792944</td>\n      <td>0.613591</td>\n      <td>NaN</td>\n      <td>NaN</td>\n      <td>6,481,454</td>\n      <td>0.771019</td>\n      <td>0.957459</td>\n      <td>0.749685</td>\n      <td>0.812594</td>\n      <td>NaN</td>\n      <td>NaN</td>\n      <td>0.332455</td>\n      <td>0.665924</td>\n      <td>2.831554</td>\n      <td>0.405794</td>\n      <td>NaN</td>\n      <td>NaN</td>\n    </tr>\n    <tr>\n      <th>aetarn_smth_100</th>\n      <td>0.541275</td>\n      <td>0.815268</td>\n      <td>1.679117</td>\n      <td>0.609060</td>\n      <td>0.169169</td>\n      <td>1.848286</td>\n      <td>10,532,244</td>\n      <td>0.720717</td>\n      <td>0.935434</td>\n      <td>0.936444</td>\n      <td>0.772865</td>\n      <td>0.169189</td>\n      <td>1.105633</td>\n      <td>0.347245</td>\n      <td>0.675041</td>\n      <td>2.594440</td>\n      <td>0.419571</td>\n      <td>0.147278</td>\n      <td>2.741719</td>\n    </tr>\n  </tbody>\n</table>\n</div>"
     },
     "metadata": {},
     "output_type": "execute_result",
     "execution_count": 11
    }
   ],
   "source": [
    "df = merge_evaluations(pl.Path(ct.SMTH_RUN_DIR / \"__100\"))\n",
    "df"
   ]
  },
  {
   "cell_type": "code",
   "execution_count": 12,
   "metadata": {
    "pycharm": {
     "is_executing": false
    }
   },
   "outputs": [],
   "source": [
    "size_col = ['model_size']\n",
    "acc1_cols = ['train_acc@1', 'dev_acc@1', 'valid_acc@1']\n",
    "acc5_cols = ['train_acc@5', 'dev_acc@5', 'valid_acc@5']\n",
    "iou_cols = ['train_iou', 'dev_iou', 'valid_iou']\n",
    "\n",
    "for col in acc1_cols + acc5_cols + iou_cols:\n",
    "    df[col] = round(df[col] * 100, 2)\n",
    "\n"
   ]
  },
  {
   "cell_type": "code",
   "execution_count": 13,
   "metadata": {
    "pycharm": {
     "is_executing": false
    }
   },
   "outputs": [
    {
     "name": "stdout",
     "text": [
      "\\begin{tabular}{llrrr}\n\\toprule\n{} &  model\\_size &  train\\_acc@1 &  dev\\_acc@1 &  valid\\_acc@1 \\\\\n\\midrule\naetarn\\_smth\\_100\\_mse\\_ce &  10,532,244 &        66.35 &      52.58 &        33.33 \\\\\ntadn\\_smth\\_100          &   7,873,214 &        76.53 &      54.14 &        33.06 \\\\\naei3d\\_smth\\_100         &  14,530,370 &        69.06 &      51.74 &        32.27 \\\\\ni3d\\_smth\\_100           &   6,598,718 &        71.82 &      53.09 &        33.61 \\\\\ntarn\\_smth\\_100          &   6,481,454 &        77.10 &      54.65 &        33.25 \\\\\naetarn\\_smth\\_100        &  10,532,244 &        72.07 &      54.13 &        34.72 \\\\\n\\bottomrule\n\\end{tabular}\n\n"
     ],
     "output_type": "stream"
    },
    {
     "data": {
      "text/plain": "                        model_size  train_acc@1  dev_acc@1  valid_acc@1\naetarn_smth_100_mse_ce  10,532,244        66.35      52.58        33.33\ntadn_smth_100            7,873,214        76.53      54.14        33.06\naei3d_smth_100          14,530,370        69.06      51.74        32.27\ni3d_smth_100             6,598,718        71.82      53.09        33.61\ntarn_smth_100            6,481,454        77.10      54.65        33.25\naetarn_smth_100         10,532,244        72.07      54.13        34.72",
      "text/html": "<div>\n<style scoped>\n    .dataframe tbody tr th:only-of-type {\n        vertical-align: middle;\n    }\n\n    .dataframe tbody tr th {\n        vertical-align: top;\n    }\n\n    .dataframe thead th {\n        text-align: right;\n    }\n</style>\n<table border=\"1\" class=\"dataframe\">\n  <thead>\n    <tr style=\"text-align: right;\">\n      <th></th>\n      <th>model_size</th>\n      <th>train_acc@1</th>\n      <th>dev_acc@1</th>\n      <th>valid_acc@1</th>\n    </tr>\n  </thead>\n  <tbody>\n    <tr>\n      <th>aetarn_smth_100_mse_ce</th>\n      <td>10,532,244</td>\n      <td>66.35</td>\n      <td>52.58</td>\n      <td>33.33</td>\n    </tr>\n    <tr>\n      <th>tadn_smth_100</th>\n      <td>7,873,214</td>\n      <td>76.53</td>\n      <td>54.14</td>\n      <td>33.06</td>\n    </tr>\n    <tr>\n      <th>aei3d_smth_100</th>\n      <td>14,530,370</td>\n      <td>69.06</td>\n      <td>51.74</td>\n      <td>32.27</td>\n    </tr>\n    <tr>\n      <th>i3d_smth_100</th>\n      <td>6,598,718</td>\n      <td>71.82</td>\n      <td>53.09</td>\n      <td>33.61</td>\n    </tr>\n    <tr>\n      <th>tarn_smth_100</th>\n      <td>6,481,454</td>\n      <td>77.10</td>\n      <td>54.65</td>\n      <td>33.25</td>\n    </tr>\n    <tr>\n      <th>aetarn_smth_100</th>\n      <td>10,532,244</td>\n      <td>72.07</td>\n      <td>54.13</td>\n      <td>34.72</td>\n    </tr>\n  </tbody>\n</table>\n</div>"
     },
     "metadata": {},
     "output_type": "execute_result",
     "execution_count": 13
    }
   ],
   "source": [
    "cols = size_col + acc1_cols\n",
    "print(df[cols].to_latex())\n",
    "df[cols]"
   ]
  },
  {
   "cell_type": "code",
   "execution_count": 14,
   "metadata": {
    "pycharm": {
     "is_executing": false
    }
   },
   "outputs": [
    {
     "name": "stdout",
     "text": [
      "\\begin{tabular}{llrrr}\n\\toprule\n{} &  model\\_size &  train\\_acc@5 &  dev\\_acc@5 &  valid\\_acc@5 \\\\\n\\midrule\naetarn\\_smth\\_100\\_mse\\_ce &  10,532,244 &        91.54 &      79.90 &        65.82 \\\\\ntadn\\_smth\\_100          &   7,873,214 &        95.33 &      81.16 &        66.19 \\\\\naei3d\\_smth\\_100         &  14,530,370 &        91.97 &      80.03 &        66.11 \\\\\ni3d\\_smth\\_100           &   6,598,718 &        92.54 &      81.58 &        68.84 \\\\\ntarn\\_smth\\_100          &   6,481,454 &        95.75 &      80.70 &        66.59 \\\\\naetarn\\_smth\\_100        &  10,532,244 &        93.54 &      81.53 &        67.50 \\\\\n\\bottomrule\n\\end{tabular}\n\n"
     ],
     "output_type": "stream"
    },
    {
     "data": {
      "text/plain": "                        model_size  train_acc@5  dev_acc@5  valid_acc@5\naetarn_smth_100_mse_ce  10,532,244        91.54      79.90        65.82\ntadn_smth_100            7,873,214        95.33      81.16        66.19\naei3d_smth_100          14,530,370        91.97      80.03        66.11\ni3d_smth_100             6,598,718        92.54      81.58        68.84\ntarn_smth_100            6,481,454        95.75      80.70        66.59\naetarn_smth_100         10,532,244        93.54      81.53        67.50",
      "text/html": "<div>\n<style scoped>\n    .dataframe tbody tr th:only-of-type {\n        vertical-align: middle;\n    }\n\n    .dataframe tbody tr th {\n        vertical-align: top;\n    }\n\n    .dataframe thead th {\n        text-align: right;\n    }\n</style>\n<table border=\"1\" class=\"dataframe\">\n  <thead>\n    <tr style=\"text-align: right;\">\n      <th></th>\n      <th>model_size</th>\n      <th>train_acc@5</th>\n      <th>dev_acc@5</th>\n      <th>valid_acc@5</th>\n    </tr>\n  </thead>\n  <tbody>\n    <tr>\n      <th>aetarn_smth_100_mse_ce</th>\n      <td>10,532,244</td>\n      <td>91.54</td>\n      <td>79.90</td>\n      <td>65.82</td>\n    </tr>\n    <tr>\n      <th>tadn_smth_100</th>\n      <td>7,873,214</td>\n      <td>95.33</td>\n      <td>81.16</td>\n      <td>66.19</td>\n    </tr>\n    <tr>\n      <th>aei3d_smth_100</th>\n      <td>14,530,370</td>\n      <td>91.97</td>\n      <td>80.03</td>\n      <td>66.11</td>\n    </tr>\n    <tr>\n      <th>i3d_smth_100</th>\n      <td>6,598,718</td>\n      <td>92.54</td>\n      <td>81.58</td>\n      <td>68.84</td>\n    </tr>\n    <tr>\n      <th>tarn_smth_100</th>\n      <td>6,481,454</td>\n      <td>95.75</td>\n      <td>80.70</td>\n      <td>66.59</td>\n    </tr>\n    <tr>\n      <th>aetarn_smth_100</th>\n      <td>10,532,244</td>\n      <td>93.54</td>\n      <td>81.53</td>\n      <td>67.50</td>\n    </tr>\n  </tbody>\n</table>\n</div>"
     },
     "metadata": {},
     "output_type": "execute_result",
     "execution_count": 14
    }
   ],
   "source": [
    "cols = size_col + acc5_cols\n",
    "print(df[cols].to_latex())\n",
    "df[cols]"
   ]
  },
  {
   "cell_type": "code",
   "execution_count": 15,
   "outputs": [
    {
     "name": "stdout",
     "text": [
      "\\begin{tabular}{llrrr}\n\\toprule\n{} &  model\\_size &  train\\_iou &  dev\\_iou &  valid\\_iou \\\\\n\\midrule\naetarn\\_smth\\_100\\_mse\\_ce &  10,532,244 &      72.68 &    59.51 &      40.32 \\\\\ntadn\\_smth\\_100          &   7,873,214 &      81.46 &    60.40 &      40.24 \\\\\naei3d\\_smth\\_100         &  14,530,370 &      74.33 &    58.49 &      39.24 \\\\\ni3d\\_smth\\_100           &   6,598,718 &      76.98 &    59.75 &      40.90 \\\\\ntarn\\_smth\\_100          &   6,481,454 &      81.26 &    61.36 &      40.58 \\\\\naetarn\\_smth\\_100        &  10,532,244 &      77.29 &    60.91 &      41.96 \\\\\n\\bottomrule\n\\end{tabular}\n\n"
     ],
     "output_type": "stream"
    },
    {
     "data": {
      "text/plain": "                        model_size  train_iou  dev_iou  valid_iou\naetarn_smth_100_mse_ce  10,532,244      72.68    59.51      40.32\ntadn_smth_100            7,873,214      81.46    60.40      40.24\naei3d_smth_100          14,530,370      74.33    58.49      39.24\ni3d_smth_100             6,598,718      76.98    59.75      40.90\ntarn_smth_100            6,481,454      81.26    61.36      40.58\naetarn_smth_100         10,532,244      77.29    60.91      41.96",
      "text/html": "<div>\n<style scoped>\n    .dataframe tbody tr th:only-of-type {\n        vertical-align: middle;\n    }\n\n    .dataframe tbody tr th {\n        vertical-align: top;\n    }\n\n    .dataframe thead th {\n        text-align: right;\n    }\n</style>\n<table border=\"1\" class=\"dataframe\">\n  <thead>\n    <tr style=\"text-align: right;\">\n      <th></th>\n      <th>model_size</th>\n      <th>train_iou</th>\n      <th>dev_iou</th>\n      <th>valid_iou</th>\n    </tr>\n  </thead>\n  <tbody>\n    <tr>\n      <th>aetarn_smth_100_mse_ce</th>\n      <td>10,532,244</td>\n      <td>72.68</td>\n      <td>59.51</td>\n      <td>40.32</td>\n    </tr>\n    <tr>\n      <th>tadn_smth_100</th>\n      <td>7,873,214</td>\n      <td>81.46</td>\n      <td>60.40</td>\n      <td>40.24</td>\n    </tr>\n    <tr>\n      <th>aei3d_smth_100</th>\n      <td>14,530,370</td>\n      <td>74.33</td>\n      <td>58.49</td>\n      <td>39.24</td>\n    </tr>\n    <tr>\n      <th>i3d_smth_100</th>\n      <td>6,598,718</td>\n      <td>76.98</td>\n      <td>59.75</td>\n      <td>40.90</td>\n    </tr>\n    <tr>\n      <th>tarn_smth_100</th>\n      <td>6,481,454</td>\n      <td>81.26</td>\n      <td>61.36</td>\n      <td>40.58</td>\n    </tr>\n    <tr>\n      <th>aetarn_smth_100</th>\n      <td>10,532,244</td>\n      <td>77.29</td>\n      <td>60.91</td>\n      <td>41.96</td>\n    </tr>\n  </tbody>\n</table>\n</div>"
     },
     "metadata": {},
     "output_type": "execute_result",
     "execution_count": 15
    }
   ],
   "source": [
    "cols = size_col + iou_cols\n",
    "print(df[cols].to_latex())\n",
    "df[cols]"
   ],
   "metadata": {
    "collapsed": false,
    "pycharm": {
     "name": "#%%\n",
     "is_executing": false
    }
   }
  },
  {
   "cell_type": "code",
   "execution_count": null,
   "outputs": [],
   "source": [
    "\n"
   ],
   "metadata": {
    "collapsed": false,
    "pycharm": {
     "name": "#%%\n"
    }
   }
  }
 ],
 "metadata": {
  "kernelspec": {
   "display_name": "Python 3",
   "language": "python",
   "name": "python3"
  },
  "language_info": {
   "codemirror_mode": {
    "name": "ipython",
    "version": 3
   },
   "file_extension": ".py",
   "mimetype": "text/x-python",
   "name": "python",
   "nbconvert_exporter": "python",
   "pygments_lexer": "ipython3",
   "version": "3.7.3"
  },
  "toc": {
   "base_numbering": 1,
   "nav_menu": {},
   "number_sections": true,
   "sideBar": true,
   "skip_h1_title": false,
   "title_cell": "Table of Contents",
   "title_sidebar": "Contents",
   "toc_cell": false,
   "toc_position": {},
   "toc_section_display": true,
   "toc_window_display": false
  },
  "pycharm": {
   "stem_cell": {
    "cell_type": "raw",
    "source": [],
    "metadata": {
     "collapsed": false
    }
   }
  }
 },
 "nbformat": 4,
 "nbformat_minor": 2
}