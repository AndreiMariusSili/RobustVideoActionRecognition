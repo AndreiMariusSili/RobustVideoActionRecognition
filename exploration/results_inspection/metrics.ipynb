{
 "cells": [
  {
   "cell_type": "code",
   "execution_count": 1,
   "metadata": {
    "pycharm": {
     "is_executing": false
    }
   },
   "outputs": [
    {
     "data": {
      "text/plain": "'/Users/Play/Code/AI/master-thesis/src'"
     },
     "metadata": {},
     "output_type": "execute_result",
     "execution_count": 1
    }
   ],
   "source": [
    "%load_ext autoreload\n",
    "%autoreload 2 \n",
    "\n",
    "import os; os.chdir(f'{os.getenv(\"MT_SOURCE\")}'); os.getcwd()"
   ]
  },
  {
   "cell_type": "code",
   "execution_count": 2,
   "outputs": [],
   "source": [
    "import pathlib as pl\n",
    "import json\n",
    "\n",
    "import pandas as pd\n",
    "\n",
    "import constants as ct\n",
    "import helpers as hp\n",
    "from postpro.visualisers import visualiser_class as vc, visualiser_ae as va, visualiser_vae as vv "
   ],
   "metadata": {
    "collapsed": false,
    "pycharm": {
     "name": "#%%\n",
     "is_executing": false
    }
   }
  },
  {
   "cell_type": "code",
   "execution_count": 13,
   "outputs": [],
   "source": [
    "SIZE = ['size']\n",
    "ACC1 = ['train_acc_1', 'dev_acc_1', 'test_acc_1']\n",
    "ACC5 = ['train_acc_5', 'dev_acc_5', 'test_acc_5']\n",
    "CE_LOSS = ['train_ce_loss', 'dev_ce_loss', 'test_ce_loss']\n",
    "MSE_LOSS = ['train_mse_loss', 'dev_mse_loss', 'test_mse_loss']\n",
    "KLD_LOSS = ['train_kld_loss', 'dev_kld_loss', 'test_kld_loss']"
   ],
   "metadata": {
    "collapsed": false,
    "pycharm": {
     "name": "#%%\n",
     "is_executing": false
    }
   }
  },
  {
   "cell_type": "code",
   "execution_count": 9,
   "metadata": {
    "pycharm": {
     "is_executing": false
    }
   },
   "outputs": [],
   "source": [
    "def merge_evaluations(runs_dir: pl.Path) -> pd.DataFrame:\n",
    "    run_paths = sorted(runs_dir.glob(\"**/run.json\"))\n",
    "    metrics_paths = sorted(runs_dir.glob(\"**/results.json\"))\n",
    "    dfs = []\n",
    "    for run_path, results_path in zip(run_paths, metrics_paths):\n",
    "        with open(run_path.as_posix()) as run_file, open(results_path.as_posix())  as results_file:\n",
    "            run = json.load(run_file)\n",
    "            results = {k: [v] for k,v in json.load(results_file).items()}\n",
    "            results.update({\n",
    "                'model': '_'.join(run['name'].split('/')[-2:]),\n",
    "                'size': run['model']['size']\n",
    "            })\n",
    "            dfs.append(pd.DataFrame.from_dict(results).set_index('model'))\n",
    "    _df = pd.concat(dfs, axis=0, sort=False).sort_index()\n",
    "    for col in _df:\n",
    "        if 'acc' in col:\n",
    "            _df[col] = round(_df[col] * 100, 2)\n",
    "    \n",
    "    return _df"
   ]
  },
  {
   "cell_type": "code",
   "execution_count": 10,
   "metadata": {
    "pycharm": {
     "is_executing": false
    }
   },
   "outputs": [
    {
     "name": "stdout",
     "text": [
      "<class 'pandas.core.frame.DataFrame'>\n",
      "Index: 3 entries, tarn_aelarge to tarn_vaelarge\n",
      "Data columns (total 19 columns):\n",
      "train_acc_1         3 non-null float64\n",
      "train_acc_5         3 non-null float64\n",
      "train_ce_loss       3 non-null float64\n",
      "train_mse_loss      2 non-null float64\n",
      "train_total_loss    2 non-null float64\n",
      "dev_acc_1           3 non-null float64\n",
      "dev_acc_5           3 non-null float64\n",
      "dev_ce_loss         3 non-null float64\n",
      "dev_mse_loss        2 non-null float64\n",
      "dev_total_loss      2 non-null float64\n",
      "test_acc_1          3 non-null float64\n",
      "test_acc_5          3 non-null float64\n",
      "test_ce_loss        3 non-null float64\n",
      "test_mse_loss       2 non-null float64\n",
      "test_total_loss     2 non-null float64\n",
      "size                3 non-null object\n",
      "train_kld_loss      1 non-null float64\n",
      "dev_kld_loss        1 non-null float64\n",
      "test_kld_loss       1 non-null float64\n",
      "dtypes: float64(18), object(1)\n",
      "memory usage: 480.0+ bytes\n"
     ],
     "output_type": "stream"
    }
   ],
   "source": [
    "df = merge_evaluations(pl.Path(ct.HMDB_RUN_DIR_1))\n",
    "df.info()"
   ]
  },
  {
   "cell_type": "code",
   "execution_count": 11,
   "metadata": {
    "pycharm": {
     "is_executing": false,
     "name": "#%%\n"
    }
   },
   "outputs": [
    {
     "data": {
      "text/plain": "                     size  train_acc_1  dev_acc_1  test_acc_1  train_acc_5  \\\nmodel                                                                        \ntarn_aelarge   10,543,011        84.38       3.12        6.25        96.88   \ntarn_class      6,492,227        84.38       7.81        6.25       100.00   \ntarn_vaelarge  10,674,083        90.62       9.38        3.12       100.00   \n\n               dev_acc_5  test_acc_5  \nmodel                                 \ntarn_aelarge        9.38       25.00  \ntarn_class         25.00       23.44  \ntarn_vaelarge      25.00       28.12  ",
      "text/html": "<div>\n<style scoped>\n    .dataframe tbody tr th:only-of-type {\n        vertical-align: middle;\n    }\n\n    .dataframe tbody tr th {\n        vertical-align: top;\n    }\n\n    .dataframe thead th {\n        text-align: right;\n    }\n</style>\n<table border=\"1\" class=\"dataframe\">\n  <thead>\n    <tr style=\"text-align: right;\">\n      <th></th>\n      <th>size</th>\n      <th>train_acc_1</th>\n      <th>dev_acc_1</th>\n      <th>test_acc_1</th>\n      <th>train_acc_5</th>\n      <th>dev_acc_5</th>\n      <th>test_acc_5</th>\n    </tr>\n    <tr>\n      <th>model</th>\n      <th></th>\n      <th></th>\n      <th></th>\n      <th></th>\n      <th></th>\n      <th></th>\n      <th></th>\n    </tr>\n  </thead>\n  <tbody>\n    <tr>\n      <th>tarn_aelarge</th>\n      <td>10,543,011</td>\n      <td>84.38</td>\n      <td>3.12</td>\n      <td>6.25</td>\n      <td>96.88</td>\n      <td>9.38</td>\n      <td>25.00</td>\n    </tr>\n    <tr>\n      <th>tarn_class</th>\n      <td>6,492,227</td>\n      <td>84.38</td>\n      <td>7.81</td>\n      <td>6.25</td>\n      <td>100.00</td>\n      <td>25.00</td>\n      <td>23.44</td>\n    </tr>\n    <tr>\n      <th>tarn_vaelarge</th>\n      <td>10,674,083</td>\n      <td>90.62</td>\n      <td>9.38</td>\n      <td>3.12</td>\n      <td>100.00</td>\n      <td>25.00</td>\n      <td>28.12</td>\n    </tr>\n  </tbody>\n</table>\n</div>"
     },
     "metadata": {},
     "output_type": "execute_result",
     "execution_count": 11
    }
   ],
   "source": [
    "df[SIZE + ACC1 + ACC5]"
   ]
  },
  {
   "cell_type": "code",
   "execution_count": 21,
   "outputs": [
    {
     "data": {
      "text/plain": "                 size  train_ce_loss  dev_ce_loss  test_ce_loss\nmodel                                                          \ntarn_class  6,492,227       0.341815     6.020304      6.540232",
      "text/html": "<div>\n<style scoped>\n    .dataframe tbody tr th:only-of-type {\n        vertical-align: middle;\n    }\n\n    .dataframe tbody tr th {\n        vertical-align: top;\n    }\n\n    .dataframe thead th {\n        text-align: right;\n    }\n</style>\n<table border=\"1\" class=\"dataframe\">\n  <thead>\n    <tr style=\"text-align: right;\">\n      <th></th>\n      <th>size</th>\n      <th>train_ce_loss</th>\n      <th>dev_ce_loss</th>\n      <th>test_ce_loss</th>\n    </tr>\n    <tr>\n      <th>model</th>\n      <th></th>\n      <th></th>\n      <th></th>\n      <th></th>\n    </tr>\n  </thead>\n  <tbody>\n    <tr>\n      <th>tarn_class</th>\n      <td>6,492,227</td>\n      <td>0.341815</td>\n      <td>6.020304</td>\n      <td>6.540232</td>\n    </tr>\n  </tbody>\n</table>\n</div>"
     },
     "metadata": {},
     "output_type": "execute_result",
     "execution_count": 21
    }
   ],
   "source": [
    "df.loc[df.index.str.contains('class'), SIZE + CE_LOSS]"
   ],
   "metadata": {
    "collapsed": false,
    "pycharm": {
     "name": "#%%\n",
     "is_executing": false
    }
   }
  },
  {
   "cell_type": "code",
   "execution_count": 22,
   "outputs": [
    {
     "data": {
      "text/plain": "                     size  train_ce_loss  dev_ce_loss  test_ce_loss  \\\nmodel                                                                 \ntarn_aelarge   10,543,011       0.385919     7.101376      7.246385   \ntarn_vaelarge  10,674,083       0.310771     7.208393      7.187164   \n\n               train_mse_loss  dev_mse_loss  test_mse_loss  \nmodel                                                       \ntarn_aelarge         0.026363      0.031979       0.035490  \ntarn_vaelarge        0.053296      0.056069       0.064162  ",
      "text/html": "<div>\n<style scoped>\n    .dataframe tbody tr th:only-of-type {\n        vertical-align: middle;\n    }\n\n    .dataframe tbody tr th {\n        vertical-align: top;\n    }\n\n    .dataframe thead th {\n        text-align: right;\n    }\n</style>\n<table border=\"1\" class=\"dataframe\">\n  <thead>\n    <tr style=\"text-align: right;\">\n      <th></th>\n      <th>size</th>\n      <th>train_ce_loss</th>\n      <th>dev_ce_loss</th>\n      <th>test_ce_loss</th>\n      <th>train_mse_loss</th>\n      <th>dev_mse_loss</th>\n      <th>test_mse_loss</th>\n    </tr>\n    <tr>\n      <th>model</th>\n      <th></th>\n      <th></th>\n      <th></th>\n      <th></th>\n      <th></th>\n      <th></th>\n      <th></th>\n    </tr>\n  </thead>\n  <tbody>\n    <tr>\n      <th>tarn_aelarge</th>\n      <td>10,543,011</td>\n      <td>0.385919</td>\n      <td>7.101376</td>\n      <td>7.246385</td>\n      <td>0.026363</td>\n      <td>0.031979</td>\n      <td>0.035490</td>\n    </tr>\n    <tr>\n      <th>tarn_vaelarge</th>\n      <td>10,674,083</td>\n      <td>0.310771</td>\n      <td>7.208393</td>\n      <td>7.187164</td>\n      <td>0.053296</td>\n      <td>0.056069</td>\n      <td>0.064162</td>\n    </tr>\n  </tbody>\n</table>\n</div>"
     },
     "metadata": {},
     "output_type": "execute_result",
     "execution_count": 22
    }
   ],
   "source": [
    "df.loc[df.index.str.contains('ae'), SIZE + CE_LOSS + MSE_LOSS]"
   ],
   "metadata": {
    "collapsed": false,
    "pycharm": {
     "name": "#%%\n",
     "is_executing": false
    }
   }
  },
  {
   "cell_type": "code",
   "execution_count": 23,
   "outputs": [
    {
     "data": {
      "text/plain": "                     size  train_ce_loss  dev_ce_loss  test_ce_loss  \\\nmodel                                                                 \ntarn_vaelarge  10,674,083       0.310771     7.208393      7.187164   \n\n               train_mse_loss  dev_mse_loss  test_mse_loss  train_kld_loss  \\\nmodel                                                                        \ntarn_vaelarge        0.053296      0.056069       0.064162        0.334478   \n\n               dev_kld_loss  test_kld_loss  \nmodel                                       \ntarn_vaelarge      0.353053       0.358575  ",
      "text/html": "<div>\n<style scoped>\n    .dataframe tbody tr th:only-of-type {\n        vertical-align: middle;\n    }\n\n    .dataframe tbody tr th {\n        vertical-align: top;\n    }\n\n    .dataframe thead th {\n        text-align: right;\n    }\n</style>\n<table border=\"1\" class=\"dataframe\">\n  <thead>\n    <tr style=\"text-align: right;\">\n      <th></th>\n      <th>size</th>\n      <th>train_ce_loss</th>\n      <th>dev_ce_loss</th>\n      <th>test_ce_loss</th>\n      <th>train_mse_loss</th>\n      <th>dev_mse_loss</th>\n      <th>test_mse_loss</th>\n      <th>train_kld_loss</th>\n      <th>dev_kld_loss</th>\n      <th>test_kld_loss</th>\n    </tr>\n    <tr>\n      <th>model</th>\n      <th></th>\n      <th></th>\n      <th></th>\n      <th></th>\n      <th></th>\n      <th></th>\n      <th></th>\n      <th></th>\n      <th></th>\n      <th></th>\n    </tr>\n  </thead>\n  <tbody>\n    <tr>\n      <th>tarn_vaelarge</th>\n      <td>10,674,083</td>\n      <td>0.310771</td>\n      <td>7.208393</td>\n      <td>7.187164</td>\n      <td>0.053296</td>\n      <td>0.056069</td>\n      <td>0.064162</td>\n      <td>0.334478</td>\n      <td>0.353053</td>\n      <td>0.358575</td>\n    </tr>\n  </tbody>\n</table>\n</div>"
     },
     "metadata": {},
     "output_type": "execute_result",
     "execution_count": 23
    }
   ],
   "source": [
    "df.loc[df.index.str.contains('vae'), SIZE + CE_LOSS + MSE_LOSS + KLD_LOSS]"
   ],
   "metadata": {
    "collapsed": false,
    "pycharm": {
     "name": "#%%\n",
     "is_executing": false
    }
   }
  },
  {
   "cell_type": "code",
   "execution_count": null,
   "outputs": [],
   "source": [],
   "metadata": {
    "collapsed": false,
    "pycharm": {
     "name": "#%%\n"
    }
   }
  }
 ],
 "metadata": {
  "kernelspec": {
   "display_name": "Python 3",
   "language": "python",
   "name": "python3"
  },
  "language_info": {
   "codemirror_mode": {
    "name": "ipython",
    "version": 3
   },
   "file_extension": ".py",
   "mimetype": "text/x-python",
   "name": "python",
   "nbconvert_exporter": "python",
   "pygments_lexer": "ipython3",
   "version": "3.7.3"
  },
  "toc": {
   "base_numbering": 1,
   "nav_menu": {},
   "number_sections": true,
   "sideBar": true,
   "skip_h1_title": false,
   "title_cell": "Table of Contents",
   "title_sidebar": "Contents",
   "toc_cell": false,
   "toc_position": {},
   "toc_section_display": true,
   "toc_window_display": false
  },
  "pycharm": {
   "stem_cell": {
    "cell_type": "raw",
    "source": [],
    "metadata": {
     "collapsed": false
    }
   }
  }
 },
 "nbformat": 4,
 "nbformat_minor": 2
}